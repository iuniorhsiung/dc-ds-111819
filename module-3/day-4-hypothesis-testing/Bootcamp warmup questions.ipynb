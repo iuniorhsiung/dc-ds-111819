{
 "cells": [
  {
   "cell_type": "code",
   "execution_count": 2,
   "metadata": {},
   "outputs": [],
   "source": [
    "x=(4, 4, 4, 9, 5, 0, 5, 1, 5, 3, 5, 7, 5, 8, 6, 2, 6, 6, 6, 6, 6, 8, 7, 1, 7, 5, 7, 7, 8, 0, 8, 5)"
   ]
  },
  {
   "cell_type": "code",
   "execution_count": 3,
   "metadata": {},
   "outputs": [
    {
     "name": "stdout",
     "output_type": "stream",
     "text": [
      "(4, 4, 4, 9, 5, 0, 5, 1, 5, 3, 5, 7, 5, 8, 6, 2, 6, 6, 6, 6, 6, 8, 7, 1, 7, 5, 7, 7, 8, 0, 8, 5)\n"
     ]
    }
   ],
   "source": [
    "print(x)"
   ]
  },
  {
   "cell_type": "code",
   "execution_count": 5,
   "metadata": {},
   "outputs": [],
   "source": [
    "y=sorted(x)"
   ]
  },
  {
   "cell_type": "code",
   "execution_count": 7,
   "metadata": {},
   "outputs": [
    {
     "data": {
      "text/plain": [
       "32"
      ]
     },
     "execution_count": 7,
     "metadata": {},
     "output_type": "execute_result"
    }
   ],
   "source": [
    "len(y)"
   ]
  },
  {
   "cell_type": "code",
   "execution_count": 11,
   "metadata": {},
   "outputs": [
    {
     "data": {
      "text/plain": [
       "4"
      ]
     },
     "execution_count": 11,
     "metadata": {},
     "output_type": "execute_result"
    }
   ],
   "source": [
    "y[7]"
   ]
  },
  {
   "cell_type": "code",
   "execution_count": 2,
   "metadata": {},
   "outputs": [],
   "source": [
    "people={\"Mary\":[48.5, \"Blige\"], \"Beyonce\":[38.1, \"Knowles-Carter \"], \"Adele\": [31.2, \"Adkins\"], \"Demi\":[27.9, \"Lovato\"], \"Ariana\":[26.5,\"grande\"]}"
   ]
  },
  {
   "cell_type": "code",
   "execution_count": 1,
   "metadata": {},
   "outputs": [],
   "source": [
    "import numpy as np"
   ]
  },
  {
   "cell_type": "code",
   "execution_count": 3,
   "metadata": {},
   "outputs": [],
   "source": [
    "A=np.array([1,2,3])"
   ]
  },
  {
   "cell_type": "code",
   "execution_count": 5,
   "metadata": {},
   "outputs": [
    {
     "data": {
      "text/plain": [
       "1"
      ]
     },
     "execution_count": 5,
     "metadata": {},
     "output_type": "execute_result"
    }
   ],
   "source": [
    "A[0]"
   ]
  },
  {
   "cell_type": "code",
   "execution_count": 3,
   "metadata": {},
   "outputs": [],
   "source": [
    "people={\"Mary\":[48.5, \"Blige\"], \"Beyonce\":[38.1, \"Knowles-Carter \"], \"Adele\": [31.2, \"Adkins\"], \"Demi\":[27.9, \"Lovato\"], \"Ariana\":[26.5,\"grande\"]}"
   ]
  },
  {
   "cell_type": "code",
   "execution_count": 15,
   "metadata": {},
   "outputs": [
    {
     "data": {
      "text/plain": [
       "48.5"
      ]
     },
     "execution_count": 15,
     "metadata": {},
     "output_type": "execute_result"
    }
   ],
   "source": [
    "people[\"Mary\"][0]"
   ]
  },
  {
   "cell_type": "code",
   "execution_count": 10,
   "metadata": {},
   "outputs": [
    {
     "name": "stdout",
     "output_type": "stream",
     "text": [
      "{'Mary': [48.5, 'Blige'], 'Beyonce': [38.1, 'Knowles-Carter '], 'Adele': [31.2, 'Adkins'], 'Demi': [27.9, 'Lovato'], 'Ariana': [26.5, 'grande']}\n"
     ]
    }
   ],
   "source": [
    "print(people)"
   ]
  },
  {
   "cell_type": "code",
   "execution_count": 32,
   "metadata": {},
   "outputs": [
    {
     "name": "stdout",
     "output_type": "stream",
     "text": [
      "Mary\n",
      "Beyonce\n",
      "Adele\n",
      "Demi\n",
      "Ariana\n",
      "The list of age is: [48.5, 38.1, 31.2, 27.9, 26.5]\n",
      "The average age is 34.44\n",
      "34.44\n",
      "The median age is\n",
      "31.2\n"
     ]
    }
   ],
   "source": [
    "people={\"Mary\":[48.5, \"Blige\"], \"Beyonce\":[38.1, \"Knowles-Carter \"], \"Adele\": [31.2, \"Adkins\"], \"Demi\":[27.9, \"Lovato\"], \"Ariana\":[26.5,\"grande\"]}\n",
    "age=[]\n",
    "for num in enumerate(people):\n",
    "    print(num[1])\n",
    "    age.append(people[num[1]][0])\n",
    "\n",
    "print('The list of age is:', age) \n",
    "import numpy as np\n",
    "print(\"The average age is\", np.mean(age))\n",
    "print(\"The median age is\", np.median(age))"
   ]
  },
  {
   "cell_type": "code",
   "execution_count": 1,
   "metadata": {},
   "outputs": [],
   "source": [
    "thor2 = ['Chris Hemsworth', 'Natalie Portman', 'Tom Hiddleston', 'Kat Dennings', 'Anthony Hopkins', 'Jaimie Alexander', 'Idris Elba']\n",
    "               \n",
    "ragnarok = ['Chris Hemsworth', 'Tessa Thompson', 'Cate Blanchett', 'Tom Hiddleston', 'Mark Ruffalo', 'Jeff Goldblum', 'Karl Urban', 'Idris Elba', 'Anthony Hopkins']"
   ]
  },
  {
   "cell_type": "code",
   "execution_count": 4,
   "metadata": {},
   "outputs": [
    {
     "ename": "AttributeError",
     "evalue": "'list' object has no attribute 'intersection'",
     "output_type": "error",
     "traceback": [
      "\u001b[0;31m---------------------------------------------------------------------------\u001b[0m",
      "\u001b[0;31mAttributeError\u001b[0m                            Traceback (most recent call last)",
      "\u001b[0;32m<ipython-input-4-36c38e60aa52>\u001b[0m in \u001b[0;36m<module>\u001b[0;34m\u001b[0m\n\u001b[0;32m----> 1\u001b[0;31m \u001b[0mlist\u001b[0m\u001b[0;34m(\u001b[0m\u001b[0mthor2\u001b[0m\u001b[0;34m)\u001b[0m\u001b[0;34m.\u001b[0m\u001b[0mintersection\u001b[0m\u001b[0;34m(\u001b[0m\u001b[0mragnarok\u001b[0m\u001b[0;34m)\u001b[0m\u001b[0;34m\u001b[0m\u001b[0;34m\u001b[0m\u001b[0m\n\u001b[0m",
      "\u001b[0;31mAttributeError\u001b[0m: 'list' object has no attribute 'intersection'"
     ]
    }
   ],
   "source": [
    "list(thor2).intersection(ragnarok)"
   ]
  },
  {
   "cell_type": "code",
   "execution_count": 8,
   "metadata": {},
   "outputs": [
    {
     "data": {
      "text/plain": [
       "['Anthony Hopkins', 'Idris Elba', 'Tom Hiddleston', 'Chris Hemsworth']"
      ]
     },
     "execution_count": 8,
     "metadata": {},
     "output_type": "execute_result"
    }
   ],
   "source": [
    "sorted(list(set(thor2).intersection(set(ragnarok))))"
   ]
  },
  {
   "cell_type": "code",
   "execution_count": 1,
   "metadata": {},
   "outputs": [],
   "source": [
    "def cylinder_vol(height, radius):\n",
    "    pi = 3.1415926\n",
    "    vol = []\n",
    "    vol = pi * height * radius**2\n",
    "    return print(\"The cylinder volume is\" + vol + \"with height\" + height + \"and radius\" + radius )"
   ]
  },
  {
   "cell_type": "code",
   "execution_count": null,
   "metadata": {},
   "outputs": [],
   "source": [
    "def cylinder_vol(height, radius):\n",
    "    pi = 3.1415926\n",
    "    vol = pi * height * radius**2\n",
    "    return pi * height * radius**2"
   ]
  },
  {
   "cell_type": "code",
   "execution_count": 1,
   "metadata": {},
   "outputs": [],
   "source": [
    "names = [\"Benjamin\", \"Bernadette\", \"Brian\", \"Betty\", \"Bella\", \"Brunhilda\", \"Bruno\"]"
   ]
  },
  {
   "cell_type": "code",
   "execution_count": 17,
   "metadata": {},
   "outputs": [],
   "source": [
    "def is_short(x, n = 8):\n",
    "    return len(x) < n"
   ]
  },
  {
   "cell_type": "code",
   "execution_count": 18,
   "metadata": {},
   "outputs": [
    {
     "data": {
      "text/plain": [
       "['Brian', 'Betty', 'Bella', 'Bruno']"
      ]
     },
     "execution_count": 18,
     "metadata": {},
     "output_type": "execute_result"
    }
   ],
   "source": [
    "list(filter(is_short, names))"
   ]
  },
  {
   "cell_type": "code",
   "execution_count": null,
   "metadata": {},
   "outputs": [],
   "source": [
    "def is_short(x, n = 8):\n",
    "    return len(x) < n\n",
    "short_names = list(filter(is_short, names))"
   ]
  },
  {
   "cell_type": "code",
   "execution_count": 18,
   "metadata": {},
   "outputs": [],
   "source": [
    "df = \"Example\"\n",
    "def split(df): \n",
    "    return [char for char in df] "
   ]
  },
  {
   "cell_type": "code",
   "execution_count": 19,
   "metadata": {},
   "outputs": [
    {
     "name": "stdout",
     "output_type": "stream",
     "text": [
      "['E', 'x', 'a', 'm', 'p', 'l', 'e']\n"
     ]
    }
   ],
   "source": [
    "print(split(df))"
   ]
  },
  {
   "cell_type": "code",
   "execution_count": 22,
   "metadata": {},
   "outputs": [
    {
     "data": {
      "text/plain": [
       "['E', 'x', 'a', 'm', 'p', 'l', 'e']"
      ]
     },
     "execution_count": 22,
     "metadata": {},
     "output_type": "execute_result"
    }
   ],
   "source": [
    "A = split(df)\n",
    "A"
   ]
  },
  {
   "cell_type": "code",
   "execution_count": 15,
   "metadata": {},
   "outputs": [],
   "source": [
    "def reverse(A);\n",
    "    for i"
   ]
  },
  {
   "cell_type": "code",
   "execution_count": 25,
   "metadata": {},
   "outputs": [],
   "source": [
    "def convert(s):\n",
    "    new_string = \"\"\n",
    "    for c in s:\n",
    "        new_string += c\n",
    "    return new_string"
   ]
  },
  {
   "cell_type": "code",
   "execution_count": 8,
   "metadata": {},
   "outputs": [
    {
     "name": "stdout",
     "output_type": "stream",
     "text": [
      "['g', 'e', 'e', 'k', 's']\n"
     ]
    }
   ],
   "source": [
    "word = 'geeks'\n",
    "print(split(word))"
   ]
  },
  {
   "cell_type": "code",
   "execution_count": 2,
   "metadata": {},
   "outputs": [],
   "source": [
    "df = [\"Marvel\", \"Universal\", \"Disney\"]"
   ]
  },
  {
   "cell_type": "code",
   "execution_count": 19,
   "metadata": {},
   "outputs": [
    {
     "name": "stdout",
     "output_type": "stream",
     "text": [
      "<class 'str'>\n",
      "<class 'str'>\n",
      "<class 'str'>\n"
     ]
    }
   ],
   "source": [
    "new_list = []\n",
    "for c, s in enumerate(df):\n",
    "    temp = reverse(s)\n",
    "    print(type(temp))\n",
    "    new_list.append(temp)\n",
    "    "
   ]
  },
  {
   "cell_type": "code",
   "execution_count": 21,
   "metadata": {},
   "outputs": [
    {
     "name": "stdout",
     "output_type": "stream",
     "text": [
      "<class 'str'>\n",
      "<class 'str'>\n",
      "<class 'str'>\n"
     ]
    },
    {
     "data": {
      "text/plain": [
       "['levraM', 'lasrevinU', 'yensiD']"
      ]
     },
     "execution_count": 21,
     "metadata": {},
     "output_type": "execute_result"
    }
   ],
   "source": [
    "df = [\"Marvel\", \"Universal\", \"Disney\"]\n",
    "new_list = []\n",
    "def reverse(s):\n",
    "    new_string = \"\"\n",
    "    for c in s:\n",
    "        new_string = c + new_string\n",
    "    return new_string\n",
    "\n",
    "for c, s in enumerate(df):\n",
    "    temp = reverse(s)\n",
    "    new_list.append(temp)\n",
    "\n",
    "new_list"
   ]
  },
  {
   "cell_type": "code",
   "execution_count": 4,
   "metadata": {},
   "outputs": [],
   "source": [
    "dictionary_of_dictionary = {\"school_roster\": {\n",
    "    \"in_session\": \"yes\",\n",
    "    \"Grade_2\": {\n",
    "        \"class_roster\": [\n",
    "            {\n",
    "            \"title\": \"Teacher\",\n",
    "            \"name\": \"Sierra Vogt\",\n",
    "            \"age\": 34,\n",
    "            \"height\": 182},\n",
    "            {\n",
    "            \"title\": \"Student\",\n",
    "            \"name\": \"Blake Cross\",\n",
    "            \"age\": 12,\n",
    "            \"height\": 106},\n",
    "            {\n",
    "            \"title\": \"Student\",\n",
    "            \"name\": \"Clint Phlibin\",\n",
    "            \"age\": 11,\n",
    "            \"height\": 120\n",
    "    }]},\n",
    "    \"Grade_3\": {\n",
    "        \"class_roster\": [\n",
    "            {\n",
    "            \"title\": \"Teacher\",\n",
    "            \"name\": \"Aly Davies\",\n",
    "            \"age\": 53,\n",
    "            \"height\": 162},\n",
    "            {\n",
    "            \"title\": \"Student\",\n",
    "            \"name\": \"Alex Heer\",\n",
    "            \"age\": 13,\n",
    "            \"height\": 100},\n",
    "            {\n",
    "            \"title\": \"Student\",\n",
    "            \"name\": \"Eric Yost\",\n",
    "            \"age\": 12,\n",
    "            \"height\": 113}\n",
    "            ]\n",
    "}}}"
   ]
  },
  {
   "cell_type": "code",
   "execution_count": 8,
   "metadata": {},
   "outputs": [
    {
     "name": "stdout",
     "output_type": "stream",
     "text": [
      "{'school_roster': {'in_session': 'yes', 'Grade_2': {'class_roster': [{'title': 'Teacher', 'name': 'Sierra Vogt', 'age': 34, 'height': 182}, {'title': 'Student', 'name': 'Blake Cross', 'age': 12, 'height': 106}, {'title': 'Student', 'name': 'Clint Phlibin', 'age': 11, 'height': 120}]}, 'Grade_3': {'class_roster': [{'title': 'Teacher', 'name': 'Aly Davies', 'age': 53, 'height': 162}, {'title': 'Student', 'name': 'Alex Heer', 'age': 13, 'height': 100}, {'title': 'Student', 'name': 'Eric Yost', 'age': 12, 'height': 113}]}}}\n"
     ]
    }
   ],
   "source": [
    "print(dictionary_of_dictionary)"
   ]
  },
  {
   "cell_type": "code",
   "execution_count": 20,
   "metadata": {},
   "outputs": [
    {
     "data": {
      "text/plain": [
       "100"
      ]
     },
     "execution_count": 20,
     "metadata": {},
     "output_type": "execute_result"
    }
   ],
   "source": [
    "dictionary_of_dictionary[\"school_roster\"][\"Grade_3\"][\"class_roster\"][1][\"height\"]"
   ]
  },
  {
   "cell_type": "markdown",
   "metadata": {},
   "source": [
    "Using this JSON object (which you have previously seen), create a loop that will yeild the cumulative age of the school.\n",
    "BONUS: just find the cumulative age of students.\n",
    "Hint: You might be easier to create a list of grades to initial loop through grades = ['Grade_3', 'Grade_2']"
   ]
  },
  {
   "cell_type": "code",
   "execution_count": 2,
   "metadata": {},
   "outputs": [],
   "source": [
    "dictionary_of_dictionary = {\"school_roster\": {\n",
    "    \"in_session\": \"yes\",\n",
    "    \"Grade_2\": {\n",
    "        \"class_roster\": [\n",
    "            {\n",
    "            \"title\": \"Teacher\",\n",
    "            \"name\": \"Sierra Vogt\",\n",
    "            \"age\": 34,\n",
    "            \"height\": 182},\n",
    "            {\n",
    "            \"title\": \"Student\",\n",
    "            \"name\": \"Blake Cross\",\n",
    "            \"age\": 12,\n",
    "            \"height\": 106},\n",
    "            {\n",
    "            \"title\": \"Student\",\n",
    "            \"name\": \"Clint Phlibin\",\n",
    "            \"age\": 11,\n",
    "            \"height\": 120\n",
    "    }]},\n",
    "    \"Grade_3\": {\n",
    "        \"class_roster\": [\n",
    "            {\n",
    "            \"title\": \"Teacher\",\n",
    "            \"name\": \"Aly Davies\",\n",
    "            \"age\": 53,\n",
    "            \"height\": 162},\n",
    "            {\n",
    "            \"title\": \"Student\",\n",
    "            \"name\": \"Alex Heer\",\n",
    "            \"age\": 13,\n",
    "            \"height\": 100},\n",
    "            {\n",
    "            \"title\": \"Student\",\n",
    "            \"name\": \"Eric Yost\",\n",
    "            \"age\": 12,\n",
    "            \"height\": 113}\n",
    "            ]\n",
    "}}}\n"
   ]
  },
  {
   "cell_type": "code",
   "execution_count": 76,
   "metadata": {},
   "outputs": [
    {
     "ename": "KeyError",
     "evalue": "'class_roster'",
     "output_type": "error",
     "traceback": [
      "\u001b[0;31m---------------------------------------------------------------------------\u001b[0m",
      "\u001b[0;31mKeyError\u001b[0m                                  Traceback (most recent call last)",
      "\u001b[0;32m<ipython-input-76-3a34c3b8ee39>\u001b[0m in \u001b[0;36m<module>\u001b[0;34m\u001b[0m\n\u001b[0;32m----> 1\u001b[0;31m \u001b[0mdictionary_of_dictionary\u001b[0m\u001b[0;34m[\u001b[0m\u001b[0;34m\"class_roster\"\u001b[0m\u001b[0;34m]\u001b[0m\u001b[0;34m\u001b[0m\u001b[0;34m\u001b[0m\u001b[0m\n\u001b[0m",
      "\u001b[0;31mKeyError\u001b[0m: 'class_roster'"
     ]
    }
   ],
   "source": [
    "dictionary_of_dictionary[\"class_roster\"]"
   ]
  },
  {
   "cell_type": "code",
   "execution_count": 13,
   "metadata": {},
   "outputs": [],
   "source": [
    "Grade2 = dictionary_of_dictionary[\"school_roster\"][\"Grade_2\"][\"class_roster\"]"
   ]
  },
  {
   "cell_type": "code",
   "execution_count": 14,
   "metadata": {},
   "outputs": [
    {
     "name": "stdout",
     "output_type": "stream",
     "text": [
      "[{'title': 'Teacher', 'name': 'Aly Davies', 'age': 53, 'height': 162}, {'title': 'Student', 'name': 'Alex Heer', 'age': 13, 'height': 100}, {'title': 'Student', 'name': 'Eric Yost', 'age': 12, 'height': 113}]\n"
     ]
    }
   ],
   "source": [
    "print(Grade3)"
   ]
  },
  {
   "cell_type": "code",
   "execution_count": 28,
   "metadata": {
    "scrolled": true
   },
   "outputs": [
    {
     "data": {
      "text/plain": [
       "3"
      ]
     },
     "execution_count": 28,
     "metadata": {},
     "output_type": "execute_result"
    }
   ],
   "source": [
    "len(Grade2)"
   ]
  },
  {
   "cell_type": "code",
   "execution_count": 34,
   "metadata": {},
   "outputs": [
    {
     "name": "stdout",
     "output_type": "stream",
     "text": [
      "[{'title': 'Teacher', 'name': 'Sierra Vogt', 'age': 34, 'height': 182}, {'title': 'Student', 'name': 'Blake Cross', 'age': 12, 'height': 106}, {'title': 'Student', 'name': 'Clint Phlibin', 'age': 11, 'height': 120}, {'title': 'Teacher', 'name': 'Aly Davies', 'age': 53, 'height': 162}, {'title': 'Student', 'name': 'Alex Heer', 'age': 13, 'height': 100}, {'title': 'Student', 'name': 'Eric Yost', 'age': 12, 'height': 113}]\n"
     ]
    }
   ],
   "source": [
    "df = []\n",
    "for i in range(len(Grade2)):\n",
    "    df.append(Grade2[i])\n",
    "    \n",
    "for i in range(len(Grade3)):\n",
    "    df.append(Grade3[i])    \n",
    "print(df)"
   ]
  },
  {
   "cell_type": "code",
   "execution_count": 36,
   "metadata": {},
   "outputs": [
    {
     "data": {
      "text/plain": [
       "34"
      ]
     },
     "execution_count": 36,
     "metadata": {},
     "output_type": "execute_result"
    }
   ],
   "source": [
    "df[0][\"age\"]"
   ]
  },
  {
   "cell_type": "code",
   "execution_count": 42,
   "metadata": {},
   "outputs": [
    {
     "data": {
      "text/plain": [
       "'Student'"
      ]
     },
     "execution_count": 42,
     "metadata": {},
     "output_type": "execute_result"
    }
   ],
   "source": [
    "df[1]['title']"
   ]
  },
  {
   "cell_type": "code",
   "execution_count": 63,
   "metadata": {},
   "outputs": [],
   "source": [
    "def cum_age():\n",
    "    sum_age = 0\n",
    "    for i in range(len(df)):\n",
    "        sum_age += df[i][\"age\"]\n",
    "    print(\"Total age is:\", sum_age)"
   ]
  },
  {
   "cell_type": "code",
   "execution_count": 64,
   "metadata": {},
   "outputs": [
    {
     "name": "stdout",
     "output_type": "stream",
     "text": [
      "Total age is: /n 135\n"
     ]
    }
   ],
   "source": [
    "cum_age()"
   ]
  },
  {
   "cell_type": "code",
   "execution_count": 74,
   "metadata": {},
   "outputs": [],
   "source": [
    "def cum_age_title(A):\n",
    "    sum_age = 0\n",
    "    for i in range(len(df)):\n",
    "        if df[i]['title'] == A:\n",
    "            sum_age += df[i][\"age\"]\n",
    "    print(\"Total age for \"+ A +\" is:\", sum_age)"
   ]
  },
  {
   "cell_type": "code",
   "execution_count": 75,
   "metadata": {},
   "outputs": [
    {
     "name": "stdout",
     "output_type": "stream",
     "text": [
      "Total age for Teacher is: 87\n"
     ]
    }
   ],
   "source": [
    "cum_age_title(\"Teacher\")"
   ]
  },
  {
   "cell_type": "code",
   "execution_count": null,
   "metadata": {},
   "outputs": [],
   "source": [
    "Grade2 = dictionary_of_dictionary[\"school_roster\"][\"Grade_2\"][\"class_roster\"]\n",
    "\n",
    "# Create a new list df\n",
    "df = []\n",
    "for i in range(len(Grade2)):\n",
    "    df.append(Grade2[i])\n",
    "    \n",
    "for i in range(len(Grade3)):\n",
    "    df.append(Grade3[i])    \n",
    "print(df)\n",
    "\n",
    "# Calculate cumulative age in df\n",
    "def cum_age():\n",
    "    sum_age = 0\n",
    "    for i in range(len(df)):\n",
    "        sum_age += df[i][\"age\"]\n",
    "    print(\"Total age is:\", sum_age)\n",
    "\n",
    "cum_age()\n",
    "\n",
    "# Caculate cumulative age with title A in df\n",
    "def cum_age_title(A):\n",
    "    sum_age = 0\n",
    "    for i in range(len(df)):\n",
    "        if df[i]['title'] == A:\n",
    "            sum_age += df[i][\"age\"]\n",
    "    print(\"Total age for \"+ A +\" is:\", sum_age)\n",
    "\n",
    "cum_age_title(\"Student\")\n",
    "cum_age_title(\"Teacher\")  "
   ]
  },
  {
   "cell_type": "code",
   "execution_count": 17,
   "metadata": {},
   "outputs": [
    {
     "name": "stdout",
     "output_type": "stream",
     "text": [
      "200\n"
     ]
    }
   ],
   "source": [
    "import json\n",
    "import requests\n",
    "# Make a get request to get the latest position of the international space station from the opennotify api.\n",
    "response = requests.get(\"https://private-anon-ece219e44b-lyricsovh.apiary-mock.com/v1/artist/title\")\n",
    "# Print the status code of the response.\n",
    "print(response.status_code)"
   ]
  },
  {
   "cell_type": "code",
   "execution_count": 7,
   "metadata": {},
   "outputs": [],
   "source": [
    "import json\n",
    "import requests\n",
    "artist = 'adele'\n",
    "songs = ['hello', 'skyfall', 'one and only']\n",
    "#songs = ['hello']"
   ]
  },
  {
   "cell_type": "code",
   "execution_count": 10,
   "metadata": {},
   "outputs": [
    {
     "name": "stdout",
     "output_type": "stream",
     "text": [
      "\n",
      " Song Title: hello \n",
      "\n",
      "Hello, it's me\n",
      "I was wondering if after all these years\n",
      "You'd like to meet\n",
      "To go over everything\n",
      "They say that time's supposed to heal ya\n",
      "But I ain't done much healing\n",
      "\n",
      "Hello, can you hear me?\n",
      "I'm in California dreaming about who\n",
      "We used to be\n",
      "When we were younger and free\n",
      "I've forgotten how it felt\n",
      "Before the world fell at our feet\n",
      "\n",
      "There's such a difference between us\n",
      "And a million miles\n",
      "\n",
      "Hello from the other side\n",
      "I must have called a thousand times\n",
      "To tell you I'm sorry\n",
      "For everything that I've done\n",
      "But when I call\n",
      "You never seem to be home\n",
      "\n",
      "Hello from the outside\n",
      "At least I can say that I've tried\n",
      "To tell you I'm sorry\n",
      "For breaking your heart\n",
      "But it don't matter\n",
      "It clearly doesn't tear you apart\n",
      "Anymore\n",
      "\n",
      "Hello, how are you?\n",
      "It's so typical of me to talk\n",
      "About myself, I'm sorry\n",
      "I hope that you're well\n",
      "Did you ever make it out of that town\n",
      "Where nothing ever happened?\n",
      "\n",
      "It's no secret that the both of us\n",
      "Are running out of time\n",
      "\n",
      "So hello from the other side\n",
      "(Other side)\n",
      "I must have called a thousand times\n",
      "(Thousand times)\n",
      "To tell you I'm sorry\n",
      "For everything that I've done\n",
      "But when I call\n",
      "You never seem to be home\n",
      "\n",
      "Hello from the outside\n",
      "(Outside)\n",
      "At least I can say that I've tried\n",
      "(I've tried)\n",
      "To tell you I'm sorry\n",
      "For breaking your heart\n",
      "But it don't matter\n",
      "It clearly doesn't tear you apart\n",
      "Anymore\n",
      "\n",
      "Ooh, anymore\n",
      "Ooh, anymore\n",
      "Ooh, anymore\n",
      "Anymore\n",
      "\n",
      "Hello from the other side\n",
      "(Other side)\n",
      "I must have called a thousand times\n",
      "(Thousand times)\n",
      "To tell you I'm sorry\n",
      "For everything that I've done\n",
      "But when I call\n",
      "You never seem to be home\n",
      "\n",
      "Hello from the outside\n",
      "(Outside)\n",
      "At least I can say that I've tried\n",
      "(I've tried)\n",
      "To tell you I'm sorry\n",
      "For breaking your heart\n",
      "But it don't matter\n",
      "It clearly doesn't tear you apart\n",
      "Anymore\n",
      "\n",
      "  \n",
      "\n",
      "\n",
      " Song Title: skyfall \n",
      "\n",
      "This is the end\n",
      "Hold your breath and count to ten\n",
      "Feel the earth move and then\n",
      "Hear my heart burst again\n",
      "\n",
      "For this is the end\n",
      "I've drowned and dreamt this moment\n",
      "So overdue, I owe them\n",
      "Swept away, I'm stolen\n",
      "\n",
      "Let the sky fall\n",
      "When it crumbles\n",
      "We will stand tall\n",
      "And face it all together\n",
      "\n",
      "Let the sky fall\n",
      "When it crumbles\n",
      "We will stand tall\n",
      "And face it all together\n",
      "At Skyfall\n",
      "\n",
      "At Skyfall\n",
      "\n",
      "Skyfall is where we start\n",
      "A thousand miles and poles apart\n",
      "Where worlds collide and days are dark\n",
      "You may have my number\n",
      "You can take my name\n",
      "But you'll never have my heart\n",
      "\n",
      "Let the sky fall\n",
      "When it crumbles\n",
      "We will stand tall\n",
      "And face it all together\n",
      "\n",
      "Let the sky fall\n",
      "When it crumbles\n",
      "We will stand tall\n",
      "And face it all together\n",
      "At Skyfall\n",
      "\n",
      "(Let the sky fall)\n",
      "(When it crumbles)\n",
      "(We will stand tall)\n",
      "\n",
      "(Let the sky fall)\n",
      "(When it crumbles)\n",
      "(We will stand tall)\n",
      "\n",
      "Where you go, I go\n",
      "What you see, I see\n",
      "I know I'd never be me\n",
      "Without the security\n",
      "\n",
      "Of your loving arms\n",
      "Keeping me from harm\n",
      "Put your hand in my hand\n",
      "And we'll stand\n",
      "\n",
      "Let the sky fall\n",
      "When it crumbles\n",
      "We will stand tall\n",
      "And face it all together\n",
      "\n",
      "Let the sky fall\n",
      "When it crumbles\n",
      "We will stand tall\n",
      "And face it all together\n",
      "At Skyfall\n",
      "\n",
      "Let the sky fall\n",
      "We will stand tall\n",
      "At Skyfall\n",
      "\n",
      "  \n",
      "\n",
      "\n",
      " Song Title: one and only \n",
      "\n",
      "You've been on my mind, I grow fonder every day\n",
      "Lose myself in time just thinking of your face\n",
      "God only knows why it's taken me so long\n",
      "To let my doubts go, you're the only one that I want\n",
      "\n",
      "I don't know why I'm scared, I've been here before\n",
      "Every feeling, every word, I've imagined it all\n",
      "You'll never know if you never try\n",
      "To forgive your past and simply be mine\n",
      "\n",
      "I dare you to let me be your, your one and only\n",
      "Promise I'm worthy to hold in your arms\n",
      "So come on and give me the chance\n",
      "To prove I am the one who can\n",
      "Walk that mile until the end starts\n",
      "\n",
      "If I've been on your mind, you hang on every word I say\n",
      "Lose yourself in time at the mention of my name\n",
      "Will I ever know how it feels to hold you close\n",
      "And have you tell me whichever road I choose, you'll go? \n",
      "\n",
      "I don't know why I'm scared, 'cause I've been here before\n",
      "Every feeling, every word, I've imagined it all\n",
      "You'll never know if you never try\n",
      "To forgive your past and simply be mine\n",
      "\n",
      "I dare you to let me be your, your one and only\n",
      "I promise I'm worthy to hold in your arms\n",
      "So come on and give me the chance\n",
      "To prove I am the one who can\n",
      "Walk that mile until the end starts\n",
      "\n",
      "I know it ain't easy giving up your heart\n",
      "I know it ain't easy giving up your heart\n",
      "Nobody's perfect (I know it ain't easy giving up your heart)\n",
      "Trust me I've learned it, nobody's perfect (I know it ain't easy giving up your heart)\n",
      "Trust me I've learned it, nobody's perfect (I know it ain't easy giving up your heart)\n",
      "Trust me I've learned it, nobody's perfect (I know it ain't easy giving up your heart)\n",
      "Trust me I've learned it\n",
      "\n",
      "So I dare you to let me be your, your one and only\n",
      "I promise I'm worthy to hold in your arms\n",
      "So come on and give me the chance\n",
      "To prove I am the one who can\n",
      "Walk that mile until the end starts\n",
      "Come on and give me the chance\n",
      "To prove I am the one who can\n",
      "Walk that mile until the end starts\n",
      "\n",
      "  \n",
      "\n"
     ]
    }
   ],
   "source": [
    "for song in songs:\n",
    "    song_lyrics = requests.get(f\"https://api.lyrics.ovh/v1/{artist}/{song}\")\n",
    "    print(f\"\\n Song Title: {song} \\n\")\n",
    "    #print(song_lyrics.status_code)\n",
    "    print(song_lyrics.json()[\"lyrics\"])\n",
    "    print(\"\\n  \\n\")\n",
    "    \n",
    "    "
   ]
  },
  {
   "cell_type": "code",
   "execution_count": 76,
   "metadata": {},
   "outputs": [
    {
     "name": "stdout",
     "output_type": "stream",
     "text": [
      "200\n",
      "You've been on my mind, I grow fonder every day\n",
      "Lose myself in time just thinking of your face\n",
      "God only knows why it's taken me so long\n",
      "To let my doubts go, you're the only one that I want\n",
      "\n",
      "I don't know why I'm scared, I've been here before\n",
      "Every feeling, every word, I've imagined it all\n",
      "You'll never know if you never try\n",
      "To forgive your past and simply be mine\n",
      "\n",
      "I dare you to let me be your, your one and only\n",
      "Promise I'm worthy to hold in your arms\n",
      "So come on and give me the chance\n",
      "To prove I am the one who can\n",
      "Walk that mile until the end starts\n",
      "\n",
      "If I've been on your mind, you hang on every word I say\n",
      "Lose yourself in time at the mention of my name\n",
      "Will I ever know how it feels to hold you close\n",
      "And have you tell me whichever road I choose, you'll go? \n",
      "\n",
      "I don't know why I'm scared, 'cause I've been here before\n",
      "Every feeling, every word, I've imagined it all\n",
      "You'll never know if you never try\n",
      "To forgive your past and simply be mine\n",
      "\n",
      "I dare you to let me be your, your one and only\n",
      "I promise I'm worthy to hold in your arms\n",
      "So come on and give me the chance\n",
      "To prove I am the one who can\n",
      "Walk that mile until the end starts\n",
      "\n",
      "I know it ain't easy giving up your heart\n",
      "I know it ain't easy giving up your heart\n",
      "Nobody's perfect (I know it ain't easy giving up your heart)\n",
      "Trust me I've learned it, nobody's perfect (I know it ain't easy giving up your heart)\n",
      "Trust me I've learned it, nobody's perfect (I know it ain't easy giving up your heart)\n",
      "Trust me I've learned it, nobody's perfect (I know it ain't easy giving up your heart)\n",
      "Trust me I've learned it\n",
      "\n",
      "So I dare you to let me be your, your one and only\n",
      "I promise I'm worthy to hold in your arms\n",
      "So come on and give me the chance\n",
      "To prove I am the one who can\n",
      "Walk that mile until the end starts\n",
      "Come on and give me the chance\n",
      "To prove I am the one who can\n",
      "Walk that mile until the end starts\n"
     ]
    }
   ],
   "source": [
    "\n",
    "song_lyrics = requests.get(\"https://api.lyrics.ovh/v1/adele/one and only\")\n",
    "print(song_lyrics.status_code)\n",
    "print(song_lyrics.json()['lyrics'])"
   ]
  },
  {
   "cell_type": "code",
   "execution_count": 45,
   "metadata": {},
   "outputs": [
    {
     "data": {
      "text/plain": [
       "'Here the lyrics of the song'"
      ]
     },
     "execution_count": 45,
     "metadata": {},
     "output_type": "execute_result"
    }
   ],
   "source": [
    "response.json()['lyrics']"
   ]
  },
  {
   "cell_type": "code",
   "execution_count": 29,
   "metadata": {},
   "outputs": [
    {
     "data": {
      "text/plain": [
       "dict_keys(['lyrics'])"
      ]
     },
     "execution_count": 29,
     "metadata": {},
     "output_type": "execute_result"
    }
   ],
   "source": [
    "response.json().keys()"
   ]
  },
  {
   "cell_type": "code",
   "execution_count": 47,
   "metadata": {},
   "outputs": [
    {
     "name": "stdout",
     "output_type": "stream",
     "text": [
      "\n",
      "Lyrics: Umbrella \n",
      "\n",
      "Uh-huh uh-huh (Shia, Rihanna)\n",
      "Uh-huh uh-huh (Good girl gone bad)\n",
      "Uh-huh uh-huh (Take three, action)\n",
      "Uh-huh uh-huh (Ho)\n",
      "No clouds in my storms\n",
      "Let it rain\n",
      "I hydroplane into fame\n",
      "Comin' down like the Dow Jones\n",
      "When the clouds come, we gone\n",
      "We Roc-A-Fellas\n",
      "We fly higher than weather\n",
      "And she flies it better\n",
      "You know me\n",
      "In anticipation\n",
      "For precipitation\n",
      "Stack chips for the rainy day\n",
      "Jay\n",
      "Rain man is back\n",
      "With little Miss Sunshine\n",
      "Rihanna, where you at?\n",
      "\n",
      "You had my heart\n",
      "And we'll never be worlds apart\n",
      "Maybe in magazines\n",
      "But you'll still be my star\n",
      "Baby, 'cause in the dark\n",
      "You can't see shiny cars\n",
      "And that's when you need me there\n",
      "With you, I'll always share\n",
      "Because...\n",
      "\n",
      "When the sun shines, we'll shine together\n",
      "Told you I'll be here forever\n",
      "Said I'll always be your friend\n",
      "Took an oath, I'mma stick it out till the end\n",
      "\n",
      "Now that it's rainin' more than ever\n",
      "Know that we'll still have each other\n",
      "You can stand under my umbrella\n",
      "You can stand under my umbrella\n",
      "Ella ella, eh eh eh\n",
      "Under my umbrella\n",
      "Ella ella, eh eh eh\n",
      "Under my umbrella\n",
      "Ella ella, eh eh eh\n",
      "Under my umbrella\n",
      "Ella ella, eh eh eh eh, eh eh\n",
      "\n",
      "These fancy things\n",
      "Will never come in between\n",
      "You're part of my entity\n",
      "Here for infinity\n",
      "When the war has took its part\n",
      "When the world has dealt its cards\n",
      "If the hand is hard\n",
      "Together we'll mend your heart\n",
      "Because...\n",
      "\n",
      "When the sun shines, we'll shine together\n",
      "Told you I'll be here forever\n",
      "Said I'll always be your friend\n",
      "Took an oath, I'mma stick it out till the end\n",
      "\n",
      "Now that it's rainin' more than ever\n",
      "Know that we'll still have each other\n",
      "You can stand under my umbrella\n",
      "You can stand under my umbrella\n",
      "Ella ella, eh eh eh\n",
      "Under my umbrella\n",
      "Ella ella, eh eh eh\n",
      "Under my umbrella\n",
      "Ella ella, eh eh eh\n",
      "Under my umbrella\n",
      "Ella ella, eh eh eh eh, eh eh\n",
      "\n",
      "You can run into my arms\n",
      "It's okay, don't be alarmed\n",
      "Come in to me\n",
      "There's no distance in between our love\n",
      "So go on and let the rain pour\n",
      "I'll be all you need and more\n",
      "Because...\n",
      "\n",
      "When the sun shines, we'll shine together\n",
      "Told you I'll be here forever\n",
      "Said I'll always be your friend\n",
      "Took an oath, I'mma stick it out till the end\n",
      "\n",
      "Now that it's rainin' more than ever\n",
      "Know that we'll still have each other\n",
      "You can stand under my umbrella\n",
      "You can stand under my umbrella\n",
      "Ella ella, eh eh eh\n",
      "Under my umbrella\n",
      "Ella ella, eh eh eh\n",
      "Under my umbrella\n",
      "Ella ella, eh eh eh\n",
      "Under my umbrella\n",
      "Ella ella, eh eh eh eh, eh eh\n",
      "\n",
      "It's raining, raining\n",
      "Ooh baby, it's raining, raining\n",
      "Baby, come in to me\n",
      "Come in to me\n",
      "It's raining, raining\n",
      "Ooh baby, it's raining, raining\n",
      "You can always come here to me\n",
      "Come in to me\n",
      "\n",
      "It's pouring rain, it's pouring rain\n",
      "Come in to me, come in to me\n",
      "It's pouring rain, it's pouring rain\n",
      "Come in to me, come in to me\n",
      "\n",
      "---------- \n",
      "\n",
      "\n",
      "Lyrics: Diamonds \n",
      "\n",
      "Shine bright like a diamond\n",
      "Shine bright like a diamond\n",
      "\n",
      "Find light in the beautiful sea\n",
      "I choose to be happy\n",
      "You and I, you and I\n",
      "We're like diamonds in the sky\n",
      "\n",
      "You're a shooting star, I see\n",
      "A vision of ecstasy\n",
      "When you hold me, I'm alive\n",
      "We're like diamonds in the sky\n",
      "\n",
      "I knew that we'd become one right away\n",
      "Oh, right away\n",
      "At first sight, I felt the energy of sun rays\n",
      "I saw the life inside your eyes\n",
      "\n",
      "So shine bright, tonight, you and I\n",
      "We're beautiful like diamonds in the sky\n",
      "Eye to eye, so alive\n",
      "We're beautiful like diamonds in the sky\n",
      "\n",
      "Shine bright like a diamond (oh)\n",
      "Shine bright like a diamond (oh)\n",
      "Shining bright like a diamond\n",
      "We're beautiful like diamonds in the sky\n",
      "\n",
      "Shine bright like a diamond (oh)\n",
      "Shine bright like a diamond (oh)\n",
      "Shining bright like a diamond\n",
      "We're beautiful like diamonds in the sky\n",
      "\n",
      "Palms rise to the universe\n",
      "As we moonshine and molly\n",
      "Feel the warmth, we'll never die\n",
      "We're like diamonds in the sky\n",
      "\n",
      "You're a shooting star, I see\n",
      "A vision of ecstasy\n",
      "When you hold me, I'm alive\n",
      "We're like diamonds in the sky\n",
      "\n",
      "At first sight I felt the energy of sun rays\n",
      "I saw the life inside your eyes\n",
      "\n",
      "So shine bright, tonight, you and I\n",
      "We're beautiful like diamonds in the sky\n",
      "Eye to eye, so alive\n",
      "We're beautiful like diamonds in the sky\n",
      "\n",
      "Shine bright like a diamond (oh)\n",
      "Shine bright like a diamond (oh)\n",
      "Shining bright like a diamond\n",
      "We're beautiful like diamonds in the sky\n",
      "\n",
      "Shine bright like a diamond (oh)\n",
      "Shine bright like a diamond (oh)\n",
      "Shining bright like a diamond\n",
      "We're beautiful like diamonds in the sky\n",
      "\n",
      "Shine bright like a diamond\n",
      "Shine bright like a diamond\n",
      "Shine bright like a diamond\n",
      "\n",
      "So shine bright, tonight, you and I\n",
      "We're beautiful like diamonds in the sky\n",
      "Eye to eye, so alive\n",
      "We're beautiful like diamonds in the sky\n",
      "\n",
      "Shine bright like a diamond (oh)\n",
      "Shine bright like a diamond (oh)\n",
      "Shine bright like a diamond, oh yeah\n",
      "\n",
      "Shine bright like a diamond (oh)\n",
      "Shine bright like a diamond (oh)\n",
      "Shine bright like a diamond\n",
      "Shine bright like a diamond\n",
      "\n",
      "---------- \n",
      "\n",
      "\n",
      "Lyrics: Pon de Replay \n",
      "\n",
      "Come Mr. DJ song pon de replay\n",
      "Come Mr. DJ won't you turn the music up\n",
      "All the gyal pon the dance floor wanting some more what\n",
      "Come Mr. DJ won't you turn the music up\n",
      "\n",
      "It goes one by one even two by two\n",
      "Everybody on the floor let me show you how we do\n",
      "Lets go dip it low then you bring it up slow\n",
      "Wind it up one time wind it back once more\n",
      "\n",
      "(Come)\n",
      "Run \n",
      "(Run) \n",
      "Run\n",
      "(Run)\n",
      "\n",
      "Everybody move \n",
      "(Run)\n",
      "Let me see you move \n",
      "(And)\n",
      "Rock it to the groove \n",
      "(Done)\n",
      "\n",
      "Shake it till the moon becomes the sun\n",
      "(Sun)\n",
      "Everybody in the club give me a run\n",
      "(Run)\n",
      "\n",
      "If you ready to move say it\n",
      "(Yeah)\n",
      "One time for your mind say it\n",
      "(Yeah, yeah)\n",
      "\n",
      "Well I'm ready for ya\n",
      "Come let me show ya\n",
      "You want to groove imma show you how to move\n",
      "\n",
      "Come Mr. DJ song pon de replay\n",
      "Come Mr. DJ won't you turn the music up\n",
      "All the gyal pon the dance floor wantin' some more what\n",
      "Come Mr. DJ won't you turn the music up\n",
      "\n",
      "Come Mr. DJ song pon de replay\n",
      "Come Mr. DJ won't you turn the music up\n",
      "All the gyal pon the dance floor wantin' some more what\n",
      "Come Mr. DJ won't you turn the music up\n",
      "\n",
      "Hey Mr.\n",
      "Please Mr. DJ\n",
      "Tell me if you hear me\n",
      "Turn the music up\n",
      "\n",
      "Hey Mr.\n",
      "Please Mr. DJ\n",
      "Tell me if you hear me\n",
      "Turn the music up\n",
      "\n",
      "It goes one by one even two by two\n",
      "Everybody in the club gon' be rockin' when I'm through\n",
      "Let the bass from the speakers run through ya sneakers\n",
      "Move both ya feet and run to the beat\n",
      "\n",
      "(Come)\n",
      "Run \n",
      "(Run) \n",
      "Run\n",
      "(Run)\n",
      "\n",
      "Everybody move \n",
      "(Run)\n",
      "Let me see you move \n",
      "(And)\n",
      "Rock it to the groove \n",
      "(Done)\n",
      "\n",
      "Shake it till the moon becomes the sun\n",
      "(Sun)\n",
      "Everybody in the club give me a run\n",
      "(Run)\n",
      "\n",
      "If you ready to move say it\n",
      "(Yeah)\n",
      "One time for your mind say it\n",
      "(Yeah, yeah)\n",
      "\n",
      "Well I'm ready for ya\n",
      "Come let me show ya\n",
      "You want to groove imma show you how to move\n",
      "\n",
      "Come Mr. DJ song pon de replay\n",
      "Come Mr. DJ won't you turn the music up\n",
      "All the gyal pon the dance floor wantin' some more what\n",
      "Come Mr. DJ won't you turn the music up\n",
      "\n",
      "Come Mr. DJ song pon de replay\n",
      "Come Mr. DJ won't you turn the music up\n",
      "All the gyal pon the dance floor wantin' some more what\n",
      "Come Mr. DJ won't you turn the music up\n",
      "\n",
      "Hey Mr.\n",
      "Please Mr. DJ\n",
      "Tell me if you hear me\n",
      "Turn the music up\n",
      "\n",
      "Hey Mr.\n",
      "Please Mr. DJ\n",
      "Tell me if you hear me\n",
      "Turn the music up\n",
      "\n",
      "Turn the music up right now\n",
      "\n",
      "Okay everybody get down if you feel me\n",
      "Come and put your hands up to the ceiling\n",
      "Everybody get down if you feel me\n",
      "Come and put your hands up to the ceiling\n",
      "\n",
      "Everybody get down if you feel me\n",
      "Come and put your hands up to the ceiling\n",
      "Everybody get down if you feel me\n",
      "Come and put your hands up to the ceiling\n",
      "\n",
      "Come Mr. DJ song pon de replay\n",
      "Come Mr. DJ won't you turn the music up\n",
      "All the gyal pon the dance floor wantin' some more what\n",
      "Come Mr. DJ won't you turn the music up\n",
      "\n",
      "Come Mr. DJ song pon de replay\n",
      "Come Mr. DJ won't you turn the music up\n",
      "All the gyal pon the dance floor wantin' some more what\n",
      "Come Mr. DJ won't you turn the music up\n",
      "\n",
      "---------- \n",
      "\n"
     ]
    }
   ],
   "source": [
    "import requests\n",
    "artist = 'Rihanna'\n",
    "songs = ['Umbrella', 'Diamonds', 'Pon de Replay']\n",
    "for song in songs:\n",
    "    lyric = requests.get(f\"https://api.lyrics.ovh/v1/{artist}/{song}\")\n",
    "    print(f'\\nLyrics: {song} \\n')\n",
    "    print(lyric.json()['lyrics'])\n",
    "    print('\\n---------- \\n')"
   ]
  },
  {
   "cell_type": "code",
   "execution_count": 2,
   "metadata": {},
   "outputs": [
    {
     "data": {
      "text/plain": [
       "<Response [200]>"
      ]
     },
     "execution_count": 2,
     "metadata": {},
     "output_type": "execute_result"
    }
   ],
   "source": [
    "import requests\n",
    "page = requests.get(\"https://washingtondc.craigslist.org/search/apa\")\n",
    "#make sure the request is legit\n",
    "page"
   ]
  },
  {
   "cell_type": "code",
   "execution_count": 29,
   "metadata": {},
   "outputs": [
    {
     "data": {
      "text/plain": [
       "'$2425'"
      ]
     },
     "execution_count": 29,
     "metadata": {},
     "output_type": "execute_result"
    }
   ],
   "source": [
    "from bs4 import BeautifulSoup\n",
    "soup = BeautifulSoup(page.content, 'html.parser')\n",
    "#Find the class for price: result-price\n",
    "soup\n",
    "# get the last price\n",
    "soup.select(\".result-price\")[-1].get_text()  #soup.select(\".result-price\")[-1].text"
   ]
  },
  {
   "cell_type": "code",
   "execution_count": 4,
   "metadata": {},
   "outputs": [
    {
     "data": {
      "text/plain": [
       "[]"
      ]
     },
     "execution_count": 4,
     "metadata": {},
     "output_type": "execute_result"
    }
   ],
   "source": [
    "soup.find_all(class_=\"outer-text\")"
   ]
  },
  {
   "cell_type": "code",
   "execution_count": 6,
   "metadata": {},
   "outputs": [
    {
     "data": {
      "text/plain": [
       "[]"
      ]
     },
     "execution_count": 6,
     "metadata": {},
     "output_type": "execute_result"
    }
   ],
   "source": [
    "soup.find_all(id=\"result-price\")"
   ]
  },
  {
   "cell_type": "code",
   "execution_count": 22,
   "metadata": {},
   "outputs": [
    {
     "data": {
      "text/plain": [
       "<span class=\"housing\">\n",
       "                    2br -\n",
       "                    1133ft<sup>2</sup> -\n",
       "                </span>"
      ]
     },
     "execution_count": 22,
     "metadata": {},
     "output_type": "execute_result"
    }
   ],
   "source": [
    "soup.select(\".housing\")[1]"
   ]
  },
  {
   "cell_type": "code",
   "execution_count": 26,
   "metadata": {},
   "outputs": [
    {
     "data": {
      "text/plain": [
       "'$2425'"
      ]
     },
     "execution_count": 26,
     "metadata": {},
     "output_type": "execute_result"
    }
   ],
   "source": [
    "soup.select(\".result-price\")[-1].text"
   ]
  },
  {
   "cell_type": "code",
   "execution_count": 28,
   "metadata": {},
   "outputs": [
    {
     "data": {
      "text/plain": [
       "'$2425'"
      ]
     },
     "execution_count": 28,
     "metadata": {},
     "output_type": "execute_result"
    }
   ],
   "source": [
    "soup.select(\".result-price\")[-1].get_text()"
   ]
  },
  {
   "cell_type": "code",
   "execution_count": 30,
   "metadata": {},
   "outputs": [
    {
     "data": {
      "text/plain": [
       "'$2425'"
      ]
     },
     "execution_count": 30,
     "metadata": {},
     "output_type": "execute_result"
    }
   ],
   "source": [
    "soup.find_all('span', attrs = {'class' : 'result-price'})[-1].text"
   ]
  },
  {
   "cell_type": "code",
   "execution_count": 6,
   "metadata": {},
   "outputs": [
    {
     "data": {
      "text/plain": [
       "[('a', 'b', 'c', 'c'),\n",
       " ('a', 'b', 'c', 'c'),\n",
       " ('a', 'c', 'b', 'c'),\n",
       " ('a', 'c', 'c', 'b'),\n",
       " ('a', 'c', 'b', 'c'),\n",
       " ('a', 'c', 'c', 'b'),\n",
       " ('b', 'a', 'c', 'c'),\n",
       " ('b', 'a', 'c', 'c'),\n",
       " ('b', 'c', 'a', 'c'),\n",
       " ('b', 'c', 'c', 'a'),\n",
       " ('b', 'c', 'a', 'c'),\n",
       " ('b', 'c', 'c', 'a'),\n",
       " ('c', 'a', 'b', 'c'),\n",
       " ('c', 'a', 'c', 'b'),\n",
       " ('c', 'b', 'a', 'c'),\n",
       " ('c', 'b', 'c', 'a'),\n",
       " ('c', 'c', 'a', 'b'),\n",
       " ('c', 'c', 'b', 'a'),\n",
       " ('c', 'a', 'b', 'c'),\n",
       " ('c', 'a', 'c', 'b'),\n",
       " ('c', 'b', 'a', 'c'),\n",
       " ('c', 'b', 'c', 'a'),\n",
       " ('c', 'c', 'a', 'b'),\n",
       " ('c', 'c', 'b', 'a')]"
      ]
     },
     "execution_count": 6,
     "metadata": {},
     "output_type": "execute_result"
    }
   ],
   "source": [
    "name = 'abcc'\n",
    "import itertools\n",
    "(list(itertools.permutations(name)))"
   ]
  },
  {
   "cell_type": "code",
   "execution_count": 7,
   "metadata": {},
   "outputs": [
    {
     "data": {
      "text/plain": [
       "{('a', 'b', 'c', 'c'),\n",
       " ('a', 'c', 'b', 'c'),\n",
       " ('a', 'c', 'c', 'b'),\n",
       " ('b', 'a', 'c', 'c'),\n",
       " ('b', 'c', 'a', 'c'),\n",
       " ('b', 'c', 'c', 'a'),\n",
       " ('c', 'a', 'b', 'c'),\n",
       " ('c', 'a', 'c', 'b'),\n",
       " ('c', 'b', 'a', 'c'),\n",
       " ('c', 'b', 'c', 'a'),\n",
       " ('c', 'c', 'a', 'b'),\n",
       " ('c', 'c', 'b', 'a')}"
      ]
     },
     "execution_count": 7,
     "metadata": {},
     "output_type": "execute_result"
    }
   ],
   "source": [
    "(set(itertools.permutations(name)))"
   ]
  },
  {
   "cell_type": "code",
   "execution_count": 1,
   "metadata": {},
   "outputs": [],
   "source": [
    "import itertools\n",
    "name = 'abcc'\n",
    "def get_words(name):\n",
    "    list_words = set(itertools.permutations(name))\n",
    "    n = len(set(itertools.permutations(name)))\n",
    "    print('There are {} different words')\n",
    "    return list_words"
   ]
  },
  {
   "cell_type": "code",
   "execution_count": 5,
   "metadata": {},
   "outputs": [],
   "source": [
    "raw_data = {'first_name': ['Jason', 'Molly', 'Tina', 'Jake', 'Amy'], \n",
    "            'last_name': ['Miller', 'Jacobson', 'Ali', 'Milner', 'Cooze'], \n",
    "            'female': [0, 1, 1, 0, 1],\n",
    "            'age': [42, 52, 36, 24, 73], \n",
    "            'preTestScore': [4, 24, 31, 2, 3],\n",
    "            'postTestScore': [25, 94, 57, 62, 70]}"
   ]
  },
  {
   "cell_type": "code",
   "execution_count": 6,
   "metadata": {},
   "outputs": [
    {
     "data": {
      "text/plain": [
       "[4, 24, 31, 2, 3]"
      ]
     },
     "execution_count": 6,
     "metadata": {},
     "output_type": "execute_result"
    }
   ],
   "source": [
    "raw_data['preTestScore']"
   ]
  },
  {
   "cell_type": "code",
   "execution_count": 14,
   "metadata": {},
   "outputs": [
    {
     "data": {
      "text/html": [
       "<div>\n",
       "<style scoped>\n",
       "    .dataframe tbody tr th:only-of-type {\n",
       "        vertical-align: middle;\n",
       "    }\n",
       "\n",
       "    .dataframe tbody tr th {\n",
       "        vertical-align: top;\n",
       "    }\n",
       "\n",
       "    .dataframe thead th {\n",
       "        text-align: right;\n",
       "    }\n",
       "</style>\n",
       "<table border=\"1\" class=\"dataframe\">\n",
       "  <thead>\n",
       "    <tr style=\"text-align: right;\">\n",
       "      <th></th>\n",
       "      <th>first_name</th>\n",
       "      <th>last_name</th>\n",
       "      <th>female</th>\n",
       "      <th>age</th>\n",
       "      <th>preTestScore</th>\n",
       "      <th>postTestScore</th>\n",
       "    </tr>\n",
       "  </thead>\n",
       "  <tbody>\n",
       "    <tr>\n",
       "      <td>0</td>\n",
       "      <td>Jason</td>\n",
       "      <td>Miller</td>\n",
       "      <td>0</td>\n",
       "      <td>42</td>\n",
       "      <td>4</td>\n",
       "      <td>25</td>\n",
       "    </tr>\n",
       "    <tr>\n",
       "      <td>1</td>\n",
       "      <td>Molly</td>\n",
       "      <td>Jacobson</td>\n",
       "      <td>1</td>\n",
       "      <td>52</td>\n",
       "      <td>24</td>\n",
       "      <td>94</td>\n",
       "    </tr>\n",
       "    <tr>\n",
       "      <td>2</td>\n",
       "      <td>Tina</td>\n",
       "      <td>Ali</td>\n",
       "      <td>1</td>\n",
       "      <td>36</td>\n",
       "      <td>31</td>\n",
       "      <td>57</td>\n",
       "    </tr>\n",
       "    <tr>\n",
       "      <td>3</td>\n",
       "      <td>Jake</td>\n",
       "      <td>Milner</td>\n",
       "      <td>0</td>\n",
       "      <td>24</td>\n",
       "      <td>2</td>\n",
       "      <td>62</td>\n",
       "    </tr>\n",
       "    <tr>\n",
       "      <td>4</td>\n",
       "      <td>Amy</td>\n",
       "      <td>Cooze</td>\n",
       "      <td>1</td>\n",
       "      <td>73</td>\n",
       "      <td>3</td>\n",
       "      <td>70</td>\n",
       "    </tr>\n",
       "  </tbody>\n",
       "</table>\n",
       "</div>"
      ],
      "text/plain": [
       "  first_name last_name  female  age  preTestScore  postTestScore\n",
       "0      Jason    Miller       0   42             4             25\n",
       "1      Molly  Jacobson       1   52            24             94\n",
       "2       Tina       Ali       1   36            31             57\n",
       "3       Jake    Milner       0   24             2             62\n",
       "4        Amy     Cooze       1   73             3             70"
      ]
     },
     "execution_count": 14,
     "metadata": {},
     "output_type": "execute_result"
    }
   ],
   "source": [
    "df = pd.DataFrame(raw_data)\n",
    "df.head()"
   ]
  },
  {
   "cell_type": "code",
   "execution_count": 12,
   "metadata": {},
   "outputs": [],
   "source": [
    "import pandas as pd\n",
    "import matplotlib.pyplot as plt\n",
    "import seaborn as sns\n",
    "plt.style.use('fivethirtyeight')\n",
    "\n",
    "%matplotlib inline"
   ]
  },
  {
   "cell_type": "code",
   "execution_count": 26,
   "metadata": {},
   "outputs": [
    {
     "data": {
      "text/plain": [
       "Text(0.5, 1.0, 'Pre-Test Score')"
      ]
     },
     "execution_count": 26,
     "metadata": {},
     "output_type": "execute_result"
    },
    {
     "data": {
      "image/png": "[encoded data removed]",
      "text/plain": [
       "<Figure size 432x288 with 1 Axes>"
      ]
     },
     "metadata": {
      "needs_background": "light"
     },
     "output_type": "display_data"
    }
   ],
   "source": [
    "import pandas as pd\n",
    "import matplotlib.pyplot as plt\n",
    "import seaborn as sns\n",
    "%matplotlib inline\n",
    "sns.scatterplot(x = 'age', y = 'preTestScore', hue = 'female', data = df)\n",
    "plt.title('Pre-Test Score')"
   ]
  },
  {
   "cell_type": "code",
   "execution_count": 25,
   "metadata": {
    "scrolled": true
   },
   "outputs": [
    {
     "data": {
      "text/plain": [
       "Text(0.5, 1.0, 'Post-Test Score')"
      ]
     },
     "execution_count": 25,
     "metadata": {},
     "output_type": "execute_result"
    },
    {
     "data": {
      "image/png": "[encoded data removed]",
      "text/plain": [
       "<Figure size 432x288 with 1 Axes>"
      ]
     },
     "metadata": {
      "needs_background": "light"
     },
     "output_type": "display_data"
    }
   ],
   "source": [
    "sns.scatterplot(x = 'age', y = 'postTestScore', hue = 'female', data = df)\n",
    "plt.title('Post-Test Score')"
   ]
  },
  {
   "cell_type": "code",
   "execution_count": 27,
   "metadata": {},
   "outputs": [
    {
     "data": {
      "text/plain": [
       "Text(0.5, 1.0, 'Post-Test Score')"
      ]
     },
     "execution_count": 27,
     "metadata": {},
     "output_type": "execute_result"
    },
    {
     "data": {
      "image/png": "[encoded data removed]",
      "text/plain": [
       "<Figure size 432x288 with 1 Axes>"
      ]
     },
     "metadata": {
      "needs_background": "light"
     },
     "output_type": "display_data"
    }
   ],
   "source": [
    "import pandas as pd\n",
    "import matplotlib.pyplot as plt\n",
    "import seaborn as sns\n",
    "%matplotlib inline\n",
    "sns.scatterplot(x = 'age', y = 'preTestScore', hue = 'female', data = df)\n",
    "plt.title('Pre-Test Score')\n",
    "sns.scatterplot(x = 'age', y = 'postTestScore', hue = 'female', data = df)\n",
    "plt.title('Post-Test Score')"
   ]
  },
  {
   "cell_type": "code",
   "execution_count": null,
   "metadata": {},
   "outputs": [],
   "source": []
  }
 ],
 "metadata": {
  "kernelspec": {
   "display_name": "Python 3",
   "language": "python",
   "name": "python3"
  },
  "language_info": {
   "codemirror_mode": {
    "name": "ipython",
    "version": 3
   },
   "file_extension": ".py",
   "mimetype": "text/x-python",
   "name": "python",
   "nbconvert_exporter": "python",
   "pygments_lexer": "ipython3",
   "version": "3.6.9"
  }
 },
 "nbformat": 4,
 "nbformat_minor": 2
}
