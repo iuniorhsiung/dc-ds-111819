{
 "cells": [
  {
   "cell_type": "markdown",
   "metadata": {},
   "source": [
    "> Statistical significance is the least interesting thing about the results. You should describe the results in terms of measures of magnitude –not just, does a treatment affect people, but how much does it affect them. ~Gene V. Glass\n",
    "\n",
    "__Note__ For this notebook I follow the discussion made in R.R.Pagano, 'Understanding the Statistics in Behaviour Sciences.' p 329\n",
    "\n",
    "# Effect Size\n",
    "\n",
    "__Discussion__ Hypothesis Testing Recall\n",
    "\n",
    "__Q__: What do we answer with an hypothesis testing?\n",
    "\n",
    "## Size of Effect: Significant vs Important \n",
    "\n",
    "Q: Consider the case where we analyzed the results of an social experiment with an hypothesis testing. Suppose at the end we concluded that the results are significant. What do we really mean by this?"
   ]
  },
  {
   "cell_type": "markdown",
   "metadata": {},
   "source": [
    "Let's try to explain what we mean: \n",
    "\n",
    "\n",
    "__Scenerio__: Are SAT-Math scores at one college greater than the known population mean of 500?\n",
    "\n",
    "Data are collected from a random sample of 1,200 students at that college. The population standard deviation unknown. Find a one-sample mean test and determine p_value. Then determine whether null hypothesis should be rejected ($\\alpha = 0.05$).\n",
    "\n",
    "\n",
    "__Your Turn__\n",
    "\n",
    "- Write null-hypothesis\n",
    "\n",
    "- Write alternative hypothesis (use one sided alternative hypothesis)\n",
    "\n",
    "- Determine the significance level."
   ]
  },
  {
   "cell_type": "markdown",
   "metadata": {},
   "source": [
    "$H_0: \\mu_{one \\hspace{.5mm} colleage} \\le 500$\n",
    "    \n",
    "    \n",
    "$H_a: \\mu_{one \\hspace{.5mm} colleage} > 500$\n",
    "\n",
    "$\\alpha = .05$"
   ]
  },
  {
   "cell_type": "code",
   "execution_count": 7,
   "metadata": {},
   "outputs": [],
   "source": [
    "## use this pickled object to run the \n",
    "## hypothesis testing\n",
    "\n",
    "import numpy as np\n",
    "\n",
    "from scipy import stats\n",
    "\n",
    "import pickle\n",
    "\n",
    "with open('sample1.pickle', 'rb') as handle:\n",
    "    sample = pickle.load(handle)"
   ]
  },
  {
   "cell_type": "code",
   "execution_count": 2,
   "metadata": {},
   "outputs": [
    {
     "data": {
      "text/plain": [
       "508.3923958670853"
      ]
     },
     "execution_count": 2,
     "metadata": {},
     "output_type": "execute_result"
    }
   ],
   "source": [
    "sample.mean()"
   ]
  },
  {
   "cell_type": "code",
   "execution_count": 14,
   "metadata": {},
   "outputs": [
    {
     "data": {
      "text/plain": [
       "100.34695740686509"
      ]
     },
     "execution_count": 14,
     "metadata": {},
     "output_type": "execute_result"
    }
   ],
   "source": [
    "sample.std(ddof = 1)"
   ]
  },
  {
   "cell_type": "code",
   "execution_count": 8,
   "metadata": {},
   "outputs": [
    {
     "data": {
      "text/plain": [
       "0.0019170045698055093"
      ]
     },
     "execution_count": 8,
     "metadata": {},
     "output_type": "execute_result"
    }
   ],
   "source": [
    "# %load -r 1-22 supplement.py\n",
    "#population mean\n",
    "mu = 500\n",
    "\n",
    "# let's find the sample mean\n",
    "x_bar = sample.mean()\n",
    "\n",
    "# know let's find the standard error\n",
    "# note that we don't know the population standard deviation\n",
    "# so instead we will use sample standard deviation as an estimator\n",
    "\n",
    "s = sample.std(ddof = 1)/np.sqrt(len(sample))\n",
    "\n",
    "# know we will find a t-score by dividing the difference in means\n",
    "# with standard error\n",
    "\n",
    "t = (x_bar - mu)/s\n",
    "\n",
    "# note that we know that t-score should lie on a t-distribution with\n",
    "# degrees of freedom len(sample) - 1 as the parameter.\n",
    "# let's use t method from scipy.stats\n",
    "\n",
    "## For the details of methods of stats module\n",
    "## https://docs.scipy.org/doc/scipy/reference/generated/scipy.stats.t.html\n",
    "p_value = stats.t.sf(t, df = len(sample) - 1)\n",
    "\n",
    "p_value"
   ]
  },
  {
   "cell_type": "code",
   "execution_count": 9,
   "metadata": {
    "scrolled": true
   },
   "outputs": [
    {
     "data": {
      "text/plain": [
       "1200"
      ]
     },
     "execution_count": 9,
     "metadata": {},
     "output_type": "execute_result"
    }
   ],
   "source": [
    "len(sample)"
   ]
  },
  {
   "cell_type": "code",
   "execution_count": 11,
   "metadata": {},
   "outputs": [
    {
     "data": {
      "text/plain": [
       "0.0018827924837368796"
      ]
     },
     "execution_count": 11,
     "metadata": {},
     "output_type": "execute_result"
    }
   ],
   "source": [
    "p_value_norm = stats.norm.sf(t)\n",
    "p_value_norm"
   ]
  },
  {
   "cell_type": "markdown",
   "metadata": {},
   "source": [
    "Compare the results with the ones from stats.ttest!"
   ]
  },
  {
   "cell_type": "code",
   "execution_count": 15,
   "metadata": {
    "scrolled": true
   },
   "outputs": [
    {
     "data": {
      "text/plain": [
       "Ttest_1sampResult(statistic=2.8971592990279116, pvalue=0.003834009139611028)"
      ]
     },
     "execution_count": 15,
     "metadata": {},
     "output_type": "execute_result"
    }
   ],
   "source": [
    "stats.ttest_1samp(sample, popmean= 500)"
   ]
  },
  {
   "cell_type": "code",
   "execution_count": 16,
   "metadata": {
    "scrolled": true
   },
   "outputs": [
    {
     "name": "stdout",
     "output_type": "stream",
     "text": [
      "t-statistics: 2.897\n",
      "p_value is 0.002\n"
     ]
    }
   ],
   "source": [
    "print(\"\"\"t-statistics: %.3f\n",
    "p_value is %.3f\"\"\"%(t, p_value))"
   ]
  },
  {
   "cell_type": "code",
   "execution_count": 19,
   "metadata": {},
   "outputs": [],
   "source": [
    "#Run a ztest \n",
    "from statsmodels.stats.weightstats import ztest"
   ]
  },
  {
   "cell_type": "code",
   "execution_count": 21,
   "metadata": {},
   "outputs": [
    {
     "data": {
      "text/plain": [
       "(2.8971592990279116, 0.001882792483736883)"
      ]
     },
     "execution_count": 21,
     "metadata": {},
     "output_type": "execute_result"
    }
   ],
   "source": [
    "ztest(sample, value = 500, alternative = 'larger')"
   ]
  },
  {
   "cell_type": "markdown",
   "metadata": {},
   "source": [
    "## Cohen's D for measuring effect size\n",
    "\n",
    "It looks like there is a statistically significant difference in the exam scores between our sample and the population. Now question is this difference important?\n",
    "\n",
    "-  Cohen(1988) gave a very simple method for determining the magnitude of the importance.\n",
    "\n",
    "__Case 1:__ When we know the population std!\n",
    "\n",
    "$$ d = \\frac{|\\bar{x} - \\mu |}{\\sigma} $$\n",
    "\n",
    "- $\\bar{x}$ sample mean\n",
    "- $\\mu$ population mean\n",
    "- $\\sigma$ population standard deviation\n",
    "- $|\\cdot|$ absolute value\n",
    "\n",
    "!! Wait a minute is this the same with z-score?\n",
    "\n",
    "__Case 2:__ When the population mean is not available!\n",
    "\n",
    "$$ d = \\frac{|\\bar{x} - \\mu |}{s} $$\n",
    "\n",
    "\n",
    "- $\\bar{x}$ sample mean\n",
    "- $\\mu$ population mean\n",
    "- $s$ sample standard deviation\n",
    "\n",
    "\n",
    "<table>\n",
    "  <tr>\n",
    "    <th>Header value of $d$</th>\n",
    "    <th>Header interpretation of d</th>\n",
    "  </tr>\n",
    "  <tr>\n",
    "    <td>0.0 - 0.20</td>\n",
    "    <td>small effect</td>\n",
    "  </tr>\n",
    "  <tr>\n",
    "    <td>0.20 - 0.79</td>\n",
    "    <td> medium effect</td>\n",
    "  </tr>\n",
    "    <tr>\n",
    "    <td>$\\geq$ 0.80</td>\n",
    "    <td> large effect</td>\n",
    "  </tr>\n",
    "</table>\n",
    "\n",
    "\n",
    "__Your turn__ Find the Cohen's d score for the following problem."
   ]
  },
  {
   "cell_type": "code",
   "execution_count": 22,
   "metadata": {},
   "outputs": [
    {
     "name": "stdout",
     "output_type": "stream",
     "text": [
      "0.08363378505894961\n"
     ]
    }
   ],
   "source": [
    "d = (sample.mean() - 500)/sample.std(ddof =1)\n",
    "print(d)"
   ]
  },
  {
   "cell_type": "markdown",
   "metadata": {},
   "source": [
    "## Effect size for two independent samples\n",
    "\n",
    "\n",
    "<img src=\"img/two_sample_ttest.png\" alt=\"Cohen's d-table\"\n",
    "\ttitle=\"Power of a test\" width=\"650\" />\n",
    "\n",
    "\n",
    "<img src=\"img/pooled_std.png\" alt=\"Cohen's d-table\"\n",
    "\ttitle=\"Power of a test\" width=\"650\" />\n",
    "    \n",
    "- Note that this version of the t-test assumes that the population standard deviations for the samples $\\sigma_{1}$ and $\\sigma_{2}$ are the same.\n",
    "\n",
    "- Unfortunately this is not very realistic assumption most of the time. In that sense, it is suggested to use Welch's test instead of two sample t-test.\n",
    "\n",
    "\n"
   ]
  },
  {
   "cell_type": "code",
   "execution_count": 23,
   "metadata": {},
   "outputs": [
    {
     "data": {
      "image/png": "[encoded data removed]",
      "text/plain": [
       "<Figure size 432x288 with 1 Axes>"
      ]
     },
     "metadata": {
      "needs_background": "light"
     },
     "output_type": "display_data"
    }
   ],
   "source": [
    "\n",
    "import matplotlib.pyplot as plt\n",
    "%matplotlib inline\n",
    "\n",
    "\n",
    "## Note that if samples would come from the populations with \n",
    "## same mean then the differences of the samples should normally\n",
    "## distribute around 0\n",
    "\n",
    "## here both mean and standard deviations of the \n",
    "## populations are the same\n",
    "\n",
    "\n",
    "l =[]\n",
    "for i in range(10000):\n",
    "    s1 = np.random.normal(loc = 100, scale = 5, size = 100)\n",
    "\n",
    "    s2 = np.random.normal(loc = 100, scale = 5, size = 100)\n",
    "\n",
    "    l.append(s1.mean() - s2.mean())\n",
    "    \n",
    "plt.hist(l)\n",
    "plt.show()"
   ]
  },
  {
   "cell_type": "code",
   "execution_count": 25,
   "metadata": {},
   "outputs": [
    {
     "data": {
      "image/png": "[encoded data removed]",
      "text/plain": [
       "<Figure size 432x288 with 1 Axes>"
      ]
     },
     "metadata": {
      "needs_background": "light"
     },
     "output_type": "display_data"
    }
   ],
   "source": [
    "## even if the population variances are different\n",
    "## if the population means are equal then\n",
    "## we can expect that the differences of the sample means \n",
    "## will have normal shape around zero\n",
    "\n",
    "l =[]\n",
    "for i in range(10000):\n",
    "    s1 = np.random.normal(loc = 100, scale = 10, size = 1000)\n",
    "\n",
    "    s2 = np.random.normal(loc = 100, scale = 5, size = 1000)\n",
    "\n",
    "    l.append(s1.mean() - s2.mean())\n",
    "\n",
    "plt.hist(l)\n",
    "plt.show()"
   ]
  },
  {
   "cell_type": "code",
   "execution_count": 26,
   "metadata": {},
   "outputs": [],
   "source": [
    "## Now let's work with the following samples\n",
    "\n",
    "sample1 = np.random.normal(loc = 100, scale = 10, size= 100)\n",
    "\n",
    "sample2 = np.random.normal(loc = 110, scale = 10, size  = 60)\n",
    "\n",
    "## note that we already know that the means are different. \n",
    "## In this case, please note that we can use two sample t-test"
   ]
  },
  {
   "cell_type": "markdown",
   "metadata": {},
   "source": [
    "We can implement the formula step by step:"
   ]
  },
  {
   "cell_type": "code",
   "execution_count": 10,
   "metadata": {},
   "outputs": [],
   "source": [
    "#%load -r 25-46 supplement.py"
   ]
  },
  {
   "cell_type": "code",
   "execution_count": null,
   "metadata": {},
   "outputs": [],
   "source": [
    "# %load -r 25-46 supplement.py\n",
    "## two sample t-test assuming same population variance\n",
    "n1 = len(sample1)\n",
    "n2 = len(sample2)\n",
    "\n",
    "pooled_std = np.sqrt(((n1-1)*np.var(sample1, ddof =1) + (n2-1)*np.var(sample2, ddof = 1))/(n1+n2-2))\n",
    "\n",
    "denom = pooled_std*np.sqrt(1/n1 + 1/n2)\n",
    "\n",
    "num = sample1.mean() - sample2.mean()\n",
    "\n",
    "t = num/denom\n",
    "\n",
    "print(\"\"\"t-value is %.7f\"\"\"%t)\n",
    "\n",
    "## now we would use t-distribution with\n",
    "## degrees of freedom equals to n1+n2-2\n",
    "## to find the p_values of such t\n",
    "\n",
    "## we are using two sided hypothesis testing\n",
    "p_value = (stats.t.cdf(t,  df= n1+n2-2))*2\n",
    "\n",
    "print(\"\"\"p_value is %.7f\"\"\"%p_value)"
   ]
  },
  {
   "cell_type": "markdown",
   "metadata": {},
   "source": [
    "Or we can use stats.ttest_ind:"
   ]
  },
  {
   "cell_type": "markdown",
   "metadata": {},
   "source": [
    "The following func: ttest_ind can not perform one-sided test"
   ]
  },
  {
   "cell_type": "code",
   "execution_count": 34,
   "metadata": {},
   "outputs": [
    {
     "data": {
      "text/plain": [
       "Ttest_indResult(statistic=-7.412547759987341, pvalue=7.0671999583097744e-12)"
      ]
     },
     "execution_count": 34,
     "metadata": {},
     "output_type": "execute_result"
    }
   ],
   "source": [
    "## Notice that we get the same result by \n",
    "## scipy.stats.ttest_ind\n",
    "\n",
    "stats.ttest_ind(sample1, sample2, equal_var= True)"
   ]
  },
  {
   "cell_type": "markdown",
   "metadata": {},
   "source": [
    "If we are not sure whether population variances are the same than we should use Welch's test.\n",
    "\n",
    "- To apply Welch's test: scipy.stats.ttest_ind has a parameter 'equal_var' when we set it equal to False."
   ]
  },
  {
   "cell_type": "code",
   "execution_count": 35,
   "metadata": {},
   "outputs": [
    {
     "data": {
      "text/plain": [
       "Ttest_indResult(statistic=-7.502060512232055, pvalue=8.997356747818683e-12)"
      ]
     },
     "execution_count": 35,
     "metadata": {},
     "output_type": "execute_result"
    }
   ],
   "source": [
    "stats.ttest_ind(sample1,sample2, equal_var=False)"
   ]
  },
  {
   "cell_type": "code",
   "execution_count": 36,
   "metadata": {},
   "outputs": [],
   "source": [
    "#Run a ztest \n",
    "from statsmodels.stats.weightstats import ttest_ind as t_test"
   ]
  },
  {
   "cell_type": "code",
   "execution_count": 38,
   "metadata": {},
   "outputs": [
    {
     "data": {
      "text/plain": [
       "(-7.502060512232055, 4.498678373909374e-12, 129.08238620156686)"
      ]
     },
     "execution_count": 38,
     "metadata": {},
     "output_type": "execute_result"
    }
   ],
   "source": [
    "t_test(sample1, sample2, alternative = \"smaller\", usevar = \"unequal\")\n",
    "# t-value, p-value, df"
   ]
  },
  {
   "cell_type": "markdown",
   "metadata": {},
   "source": [
    "Now let's discuss whether this difference is important or not.\n"
   ]
  },
  {
   "cell_type": "markdown",
   "metadata": {},
   "source": [
    "For some tests there are commonly used measures of effect size. For example, when comparing the difference in two means we often compute Cohen's d which is the difference between the two observed sample means in standard deviation units. \n",
    "\n",
    "$$ \\begin{gather}\n",
    " d = \\frac{|\\bar{x}_{1} - \\bar{x}_{2}|\n",
    " }{s_{W}}\n",
    "\\text{where} \\qquad s_{W} = \\sqrt{\\frac{(n_{1}-1)s_{1}^{2} + (n_{2}-1)s_{2}^{2} }{n_{1} + n_{2} - 2}}\n",
    "\\end{gather}$$\n",
    "\n",
    "__Your Turn!__\n",
    "\n",
    "Find Cohen's d for sample1 and sample2\n"
   ]
  },
  {
   "cell_type": "code",
   "execution_count": null,
   "metadata": {
    "scrolled": true
   },
   "outputs": [],
   "source": [
    " %load -r 49-61 supplement.py"
   ]
  },
  {
   "cell_type": "code",
   "execution_count": 32,
   "metadata": {},
   "outputs": [
    {
     "name": "stdout",
     "output_type": "stream",
     "text": [
      "1.2104639803986277\n"
     ]
    }
   ],
   "source": [
    "# run this: %load -r 49-61 supplement.py \n",
    "n1 = len(sample1)\n",
    "n2 = len(sample2)\n",
    "var1 = np.var(sample1, ddof=1)\n",
    "var2 = np.var(sample2, ddof =1)\n",
    "\n",
    "num = (n1 -1 )*var1 + (n2-1)*var2\n",
    "\n",
    "denom = (n1+n2 - 2)\n",
    "s_W = np.sqrt(num/denom)\n",
    "\n",
    "d = np.abs(sample1.mean() - sample2.mean())/s_W\n",
    "\n",
    "print(d)"
   ]
  },
  {
   "cell_type": "markdown",
   "metadata": {},
   "source": [
    "__note:__ For this part of this notebook I followed \"Statistics for Business and Economics\" ch:9.7-9.8."
   ]
  },
  {
   "cell_type": "markdown",
   "metadata": {},
   "source": [
    "# Power of an Hypothesis Testing\n",
    "\n",
    "- Recall $\\alpha$ is the probability of making Type-I error when the null hypothesis is true.\n",
    "\n",
    "- What about the the probability of making Type - II errors?\n",
    "\n",
    " - (We will call this probability as $\\beta$.)\n",
    " \n",
    "- Power of a statistical test measures an experiment's ability to reject a null-hypothesis when $H_{a}$ is true.\n",
    " \n",
    " Mathematically, the __power__ of an experiment is defined as the probability (1- $\\beta$) that the results of an experiment will allow rejection of the null hypothesis if the independent variable has a real effect.\n"
   ]
  },
  {
   "cell_type": "markdown",
   "metadata": {},
   "source": [
    "\n",
    "## Power calculations\n",
    "\n",
    "\n",
    "A quality control manager must decide to accept a shipment of batteries from a supplier or to return the shipment because of poor quality. Assume that design specifications require batteries from the supplier to have a mean useful life of at least 120 hours. To evaluate the quality of an in- coming shipment, a sample of 36 batteries will be selected and tested. On the basis of the sample, a decision must be made to accept the shipment of batteries or to return it to the supplier because of poor quality.\n",
    "\n",
    "\n",
    "__Your Turn__\n",
    "\n",
    "- Write a null-hypothesis\n",
    "\n",
    "- Write alternative hypothesis (use one sided test)\n",
    "\n",
    "- Set the significance level\n",
    "\n",
    "- Assume that the population standard deviation is known and equals to 12 (ie. $\\sigma =12$)\n",
    "\n",
    "- Use z-test to find critical number hours to decline shipping. \n"
   ]
  },
  {
   "cell_type": "code",
   "execution_count": null,
   "metadata": {},
   "outputs": [],
   "source": [
    " %load -r 63-64 supplement.py"
   ]
  },
  {
   "cell_type": "code",
   "execution_count": null,
   "metadata": {},
   "outputs": [],
   "source": [
    "# %load -r 63-64 supplement.py\n",
    "<img src=\"img/critical_value.png\" alt=\"Cohen's d-table\"\n",
    "\ttitle=\"Power of a test\" width=\"650\" />"
   ]
  },
  {
   "cell_type": "markdown",
   "metadata": {},
   "source": [
    "Now we can compute $\\beta$. To compute the probability of making Type II error we must select a value less than 120 hours.\n",
    "\n",
    "- Suppose the true value was 112."
   ]
  },
  {
   "cell_type": "markdown",
   "metadata": {},
   "source": [
    "Finding the z-score:\n",
    "\n",
    "$$ z = \\frac{\\bar{x} - \\mu}{\\sigma/\\sqrt{n}} = \\frac{116.71 - 112}{12/\\sqrt{36}} = 2.36 $$"
   ]
  },
  {
   "cell_type": "code",
   "execution_count": 15,
   "metadata": {},
   "outputs": [],
   "source": [
    "beta = stats.norm.sf(2.36)"
   ]
  },
  {
   "cell_type": "markdown",
   "metadata": {},
   "source": [
    "<img src=\"img/beta.png\" alt=\"Cohen's d-table\"\n",
    "\ttitle=\"Power of a test\" width=\"650\" />"
   ]
  },
  {
   "cell_type": "markdown",
   "metadata": {},
   "source": [
    "__Your Turn__\n",
    "\n",
    "- Find $\\beta$ when the true mean was 115"
   ]
  },
  {
   "cell_type": "code",
   "execution_count": 16,
   "metadata": {},
   "outputs": [],
   "source": [
    "## Your work is here"
   ]
  },
  {
   "cell_type": "markdown",
   "metadata": {},
   "source": [
    "<img src=\"img/power_curve_table.png\" alt=\"Cohen's d-table\"\n",
    "\ttitle=\"Power of a test\" width=\"650\" />\n",
    "\n",
    "<img src=\"img/power_curve.png\" alt=\"Cohen's d-table\"\n",
    "\ttitle=\"Power of a test\" width=\"650\" />"
   ]
  },
  {
   "cell_type": "markdown",
   "metadata": {},
   "source": [
    "## Determining the Sample Size for a Hypothesis Test About a Population Mean\n",
    "\n",
    "\n",
    "<img src=\"img/power_sample_size.png\" alt=\"Cohen's d-table\"\n",
    "\ttitle=\"Power of a test\" width=\"650\" />\n",
    "    \n",
    "    \n",
    "    \n",
    "note that we can show that the sample size can be given as:\n",
    "\n",
    "$$ \\sqrt{n} = \\frac{z_{\\alpha} + z_{\\beta}}{\\mu - \\mu_{a}}\\sigma$$\n",
    "\n",
    "<img src=\"img/sample_size.png\" alt=\"Cohen's d-table\"\n",
    "\ttitle=\"Power of a test\" width=\"650\" />"
   ]
  },
  {
   "cell_type": "markdown",
   "metadata": {},
   "source": [
    "## Sample size, $\\alpha$ and Power\n",
    "\n",
    "\n",
    "- Increasing sample size --> decreases the standard error --> power increases\n",
    "\n",
    "- Increasing $\\alpha$ --> increases power: $\\alpha:$ \n",
    "\n",
    "        Probability of making Type-I error also it defines the rejection region. So the larger the rejection region it is more likely that we will reject the null hypothesis. Therefore:\n",
    "\n",
    "- As effect size increases power increases.\n"
   ]
  },
  {
   "cell_type": "markdown",
   "metadata": {},
   "source": [
    "# Resources\n",
    "\n",
    "- Null Hypothesis Significance Testing: A Review of an Old and Continuing Controversy - RS Nickerson\n",
    "\n",
    "- [Penn State Statistics Courses](https://newonlinecourses.science.psu.edu/stat200/lesson/6/6.4)\n",
    "\n",
    "- [Statistics For Business and Economics - 9.6](https://www.amazon.com/Statistics-Business-Economics-Book-Only/dp/0324783256)\n",
    "\n",
    "- [G. Privitera, Statistics for Behavioral Sciences - ch-8](https://www.amazon.com/Statistics-Behavioral-Sciences-Gregory-Privitera/dp/1506386253)\n",
    "\n",
    "- [An interactive tool for the relation between effect size $\\alpha$ and power](https://rpsychologist.com/d3/NHST/)\n",
    "\n",
    "- [Effect Sizes](https://www.statisticshowto.datasciencecentral.com/effect-size/)"
   ]
  },
  {
   "cell_type": "code",
   "execution_count": null,
   "metadata": {},
   "outputs": [],
   "source": []
  }
 ],
 "metadata": {
  "kernelspec": {
   "display_name": "Python 3",
   "language": "python",
   "name": "python3"
  },
  "language_info": {
   "codemirror_mode": {
    "name": "ipython",
    "version": 3
   },
   "file_extension": ".py",
   "mimetype": "text/x-python",
   "name": "python",
   "nbconvert_exporter": "python",
   "pygments_lexer": "ipython3",
   "version": "3.6.9"
  },
  "toc": {
   "base_numbering": 1,
   "nav_menu": {},
   "number_sections": true,
   "sideBar": true,
   "skip_h1_title": false,
   "title_cell": "Table of Contents",
   "title_sidebar": "Contents",
   "toc_cell": false,
   "toc_position": {},
   "toc_section_display": true,
   "toc_window_display": false
  }
 },
 "nbformat": 4,
 "nbformat_minor": 2
}
