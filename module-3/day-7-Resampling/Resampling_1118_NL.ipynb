{
 "cells": [
  {
   "cell_type": "markdown",
   "metadata": {},
   "source": [
    "# Resampling Techniques\n",
    "\n",
    "## The Bootstrap\n",
    "\n",
    "The bootstrap is a widely applicable and extremely powerful statistical tool that can be used to quantify the uncertainty associated with a given estimator or statistical learning method.\n",
    "\n",
    " - As an example:the bootstrap can be used to estimate the standard errors of the coefficients from a linear regression fit.\n",
    " \n",
    " - Similarly later on we will see that in random forests we will use bootstrapping tool to be able to cope with variance. \n",
    " \n",
    "\n",
    "__Bootstrapping:__ In bootstrapping we will create new samples. But rather than repeatedly obtaining independent data sets from the population, we instead obtain distinct data sets by repeatedly sampling observations from the original data set. __Important point:__ the sampling is performed by replacement.\n",
    "\n",
    "### Scenario\n",
    "\n",
    "Suppose that we wish to invest a fixed sum of money in two financial assests that yield returns of X and Y, respectively, where X and Y are random quantities. We will invest a fraction $\\alpha$ of our money in X and will invest the remaining $1-\\alpha$ in Y. Our goal is to minimize risk, in other words, minimize the variance in our investment.(say Z)\n",
    "\n",
    "\n",
    "- We know that the $\\alpha$ value that minimizes the risk can be given by:\n",
    "\n",
    "- What do you mean by minimizing the risk? Minimize the variance of the Z\n",
    "\n",
    "$$ \\alpha = \\frac{\\sigma^{2}_{Y} - \\sigma_{XY}}{\\sigma^{2}_{X} + \\sigma^{2}_{Y} - 2\\sigma_{XY}}$$\n",
    "\n",
    "Here $\\sigma^{2}_{X} = \\text{Var}(X)$, $\\sigma^{2}_{Y} = \\text{Var}(Y)$ and $\\sigma_{XY} = \\text{Cov}(X,Y)$\n",
    "\n",
    "\n",
    "__In reality:__ These quantities are not know as they are the parameters of the population.\n",
    "\n",
    "__In practice:__ We can try to estimate $\\alpha$ from sample."
   ]
  },
  {
   "cell_type": "code",
   "execution_count": 1,
   "metadata": {},
   "outputs": [],
   "source": [
    "import numpy as np\n",
    "import pickle\n",
    "\n",
    "with open('sample_np.pickle', 'rb') as handle:\n",
    "    sample = pickle.load(handle)"
   ]
  },
  {
   "cell_type": "markdown",
   "metadata": {},
   "source": [
    "__Your Turn__\n",
    "\n",
    "- Write a function that returns $\\alpha$ for the given sample.\n",
    "\n",
    "- Then find an estimate for $\\alpha$.\n"
   ]
  },
  {
   "cell_type": "code",
   "execution_count": 21,
   "metadata": {},
   "outputs": [],
   "source": [
    "# %load -r 1-6 supplement.py"
   ]
  },
  {
   "cell_type": "code",
   "execution_count": 3,
   "metadata": {},
   "outputs": [],
   "source": [
    "# %load -r 1-6 supplement.py\n",
    "def estimate_alpha(sample):\n",
    "    cov = np.cov(sample.T)\n",
    "    num = cov[1, 1] - cov[0, 1]\n",
    "    denom = cov[0, 0] + cov[1, 1] - 2 * cov[0, 1]\n",
    "    alpha = num / denom\n",
    "    return (alpha)"
   ]
  },
  {
   "cell_type": "code",
   "execution_count": 53,
   "metadata": {},
   "outputs": [
    {
     "data": {
      "text/plain": [
       "(2, 100)"
      ]
     },
     "execution_count": 53,
     "metadata": {},
     "output_type": "execute_result"
    }
   ],
   "source": [
    "sample.T.shape"
   ]
  },
  {
   "cell_type": "code",
   "execution_count": 50,
   "metadata": {},
   "outputs": [
    {
     "data": {
      "text/plain": [
       "array([[1.11236318, 0.60861369],\n",
       "       [0.60861369, 1.19762165]])"
      ]
     },
     "execution_count": 50,
     "metadata": {},
     "output_type": "execute_result"
    }
   ],
   "source": [
    "cov = np.cov(sample.T)\n",
    "cov"
   ]
  },
  {
   "cell_type": "code",
   "execution_count": 4,
   "metadata": {},
   "outputs": [
    {
     "data": {
      "text/plain": [
       "0.539010703369548"
      ]
     },
     "execution_count": 4,
     "metadata": {},
     "output_type": "execute_result"
    }
   ],
   "source": [
    "alpha_hat = estimate_alpha(sample)\n",
    "\n",
    "alpha_hat"
   ]
  },
  {
   "cell_type": "code",
   "execution_count": 59,
   "metadata": {},
   "outputs": [
    {
     "data": {
      "text/plain": [
       "[-0.013664143968343216, -0.021751486565932822]"
      ]
     },
     "execution_count": 59,
     "metadata": {},
     "output_type": "execute_result"
    }
   ],
   "source": [
    "[np.mean(x) for x in sample.T ]"
   ]
  },
  {
   "cell_type": "code",
   "execution_count": 55,
   "metadata": {},
   "outputs": [
    {
     "data": {
      "text/plain": [
       "[-0.013664143968343216, -0.021751486565932822]"
      ]
     },
     "execution_count": 55,
     "metadata": {},
     "output_type": "execute_result"
    }
   ],
   "source": [
    "[np.mean(sample.T[0]), np.mean(sample.T[1])]"
   ]
  },
  {
   "cell_type": "code",
   "execution_count": 46,
   "metadata": {},
   "outputs": [],
   "source": [
    "#Define a two-dim mean for multi-normal\n",
    "mean = [np.mean(sample.T[0]), np.mean(sample.T[1])]"
   ]
  },
  {
   "cell_type": "markdown",
   "metadata": {},
   "source": [
    "__Note:__ Note that the alpha we found is just a __point estimator__ for the actual value of $\\alpha$. We cannot rely on this estimate without having a confidence interval.\n",
    "\n",
    "__Q:__ If we could get more samples from the population what you would do to get a confidence interval around the estimator?"
   ]
  },
  {
   "cell_type": "code",
   "execution_count": 51,
   "metadata": {},
   "outputs": [],
   "source": [
    "# %load -r 9-15 supplement.py"
   ]
  },
  {
   "cell_type": "code",
   "execution_count": 57,
   "metadata": {},
   "outputs": [
    {
     "name": "stdout",
     "output_type": "stream",
     "text": [
      "0.5388442637103421\n",
      "0.09114201745005195\n"
     ]
    }
   ],
   "source": [
    "# %load -r 9-15 supplement.py\n",
    "#Need mean, and covariant\n",
    "#Define by NL\n",
    "covariant = cov\n",
    "mean = [np.mean(x) for x in sample.T ]\n",
    "#End of this\n",
    "alpha_hats = []\n",
    "for i in range(10000):\n",
    "    s  = np.random.multivariate_normal(mean, covariant, size = 100)\n",
    "    alpha_hats.append(estimate_alpha(s))\n",
    "\n",
    "print(np.mean(alpha_hats))\n",
    "print(np.std(alpha_hats, ddof = 1))"
   ]
  },
  {
   "cell_type": "markdown",
   "metadata": {},
   "source": [
    "## Bootstrapping"
   ]
  },
  {
   "cell_type": "markdown",
   "metadata": {},
   "source": [
    "<img src=\"img/bootstrap.png\" alt=\"alt text\" width=\"400\"/>"
   ]
  },
  {
   "cell_type": "code",
   "execution_count": 1,
   "metadata": {},
   "outputs": [],
   "source": [
    "## apply bootstrapping 1000 times \n",
    "## find alpha_hat for each of the resamples"
   ]
  },
  {
   "cell_type": "code",
   "execution_count": 60,
   "metadata": {},
   "outputs": [],
   "source": [
    "from sklearn.utils import resample\n",
    "\n",
    "## resample documentation\n",
    "\n",
    "## https://scikit-learn.org/stable/modules/generated/sklearn.utils.resample.html\n",
    "    \n",
    "    \n",
    "bootstrap1 = resample(sample, \n",
    "                      replace = True,\n",
    "                      n_samples = 100, random_state = 111119)"
   ]
  },
  {
   "cell_type": "code",
   "execution_count": 20,
   "metadata": {},
   "outputs": [
    {
     "data": {
      "text/plain": [
       "array([[ 0.70036716, -0.46445432],\n",
       "       [ 0.1567576 ,  1.64598146],\n",
       "       [-1.21477656,  0.89698383],\n",
       "       [ 0.0702617 , -1.10982053],\n",
       "       [ 0.77794546, -1.13476844],\n",
       "       [ 1.06016305, -1.16139303],\n",
       "       [ 0.81458962, -0.09825385],\n",
       "       [ 0.02954086, -0.38314356],\n",
       "       [-1.10497423, -0.97365327],\n",
       "       [-0.09478619,  0.47959185]])"
      ]
     },
     "execution_count": 20,
     "metadata": {},
     "output_type": "execute_result"
    }
   ],
   "source": [
    "bootstrap1[:10]"
   ]
  },
  {
   "cell_type": "markdown",
   "metadata": {},
   "source": [
    "__Your Turn__\n",
    "\n",
    "- Apply bootstrapping 1000 times.\n",
    "\n",
    "- Find $\\hat{\\alpha}$ for each of these resamples.\n",
    "\n",
    "- Find the standard error for $\\hat{\\alpha}$."
   ]
  },
  {
   "cell_type": "code",
   "execution_count": 61,
   "metadata": {},
   "outputs": [
    {
     "ename": "TypeError",
     "evalue": "'numpy.float64' object is not callable",
     "output_type": "error",
     "traceback": [
      "\u001b[0;31m---------------------------------------------------------------------------\u001b[0m",
      "\u001b[0;31mTypeError\u001b[0m                                 Traceback (most recent call last)",
      "\u001b[0;32m<ipython-input-61-d6f38680e3bf>\u001b[0m in \u001b[0;36m<module>\u001b[0;34m\u001b[0m\n\u001b[1;32m      2\u001b[0m a = [alpha_hat(resample(sample,\n\u001b[1;32m      3\u001b[0m                     \u001b[0mreplace\u001b[0m \u001b[0;34m=\u001b[0m \u001b[0;32mTrue\u001b[0m\u001b[0;34m,\u001b[0m\u001b[0;34m\u001b[0m\u001b[0;34m\u001b[0m\u001b[0m\n\u001b[0;32m----> 4\u001b[0;31m                     n_samples = 100)) for i in range(10000)]\n\u001b[0m",
      "\u001b[0;32m<ipython-input-61-d6f38680e3bf>\u001b[0m in \u001b[0;36m<listcomp>\u001b[0;34m(.0)\u001b[0m\n\u001b[1;32m      2\u001b[0m a = [alpha_hat(resample(sample,\n\u001b[1;32m      3\u001b[0m                     \u001b[0mreplace\u001b[0m \u001b[0;34m=\u001b[0m \u001b[0;32mTrue\u001b[0m\u001b[0;34m,\u001b[0m\u001b[0;34m\u001b[0m\u001b[0;34m\u001b[0m\u001b[0m\n\u001b[0;32m----> 4\u001b[0;31m                     n_samples = 100)) for i in range(10000)]\n\u001b[0m",
      "\u001b[0;31mTypeError\u001b[0m: 'numpy.float64' object is not callable"
     ]
    }
   ],
   "source": [
    "# %load -r 17-19 supplement.py\n",
    "a = [alpha_hat(resample(sample,\n",
    "                    replace = True,\n",
    "                    n_samples = 100)) for i in range(10000)]"
   ]
  },
  {
   "cell_type": "code",
   "execution_count": 63,
   "metadata": {},
   "outputs": [],
   "source": [
    "a = [estimate_alpha(resample(sample,\n",
    "                    replace = True,\n",
    "                    n_samples = 100)) for i in range(10000)]"
   ]
  },
  {
   "cell_type": "code",
   "execution_count": 67,
   "metadata": {},
   "outputs": [
    {
     "data": {
      "text/plain": [
       "10000"
      ]
     },
     "execution_count": 67,
     "metadata": {},
     "output_type": "execute_result"
    }
   ],
   "source": [
    "len(a)"
   ]
  },
  {
   "cell_type": "code",
   "execution_count": 69,
   "metadata": {},
   "outputs": [
    {
     "data": {
      "text/plain": [
       "0.36787925722106646"
      ]
     },
     "execution_count": 69,
     "metadata": {},
     "output_type": "execute_result"
    }
   ],
   "source": [
    "(1-1/1000000)**1000000"
   ]
  },
  {
   "cell_type": "markdown",
   "metadata": {},
   "source": [
    "Note that in the scenario above the true answers were:\n",
    "\n",
    "SE($\\alpha$ = 0.083)\n",
    "\n",
    "and $\\alpha = 0.6$"
   ]
  },
  {
   "cell_type": "markdown",
   "metadata": {},
   "source": [
    "__Your turn__: \n",
    "\n",
    "1. What is the probability that the first bootstrap observation is not the jth observation from the original sample? Justify your answer.\n",
    "\n",
    "---- your answer here"
   ]
  },
  {
   "cell_type": "markdown",
   "metadata": {},
   "source": [
    "2. What is the probability that the second bootstrap observation is not the jth observation from the original sample?\n",
    "\n",
    "--- your answer here"
   ]
  },
  {
   "cell_type": "markdown",
   "metadata": {},
   "source": [
    "3. Argue that the probability that the jth observation is not in the bootstrap sample is $(1-\\frac{1}{n})^{n}$.\n",
    "\n",
    "-- Your answer here\n"
   ]
  },
  {
   "cell_type": "markdown",
   "metadata": {},
   "source": [
    "4. When n = 100, what is the value of this probability?\n",
    "\n",
    "-- your answer here"
   ]
  },
  {
   "cell_type": "markdown",
   "metadata": {},
   "source": [
    "5. Using the sample given below, run 1000 bootstrap and find in how many of them was in the bootstrapped sample"
   ]
  },
  {
   "cell_type": "code",
   "execution_count": 55,
   "metadata": {},
   "outputs": [],
   "source": [
    "# use this data as the initial sample\n",
    "\n",
    "np.random.seed(111119)\n",
    "X = np.random.normal(loc = 10, scale =3, size = 100)\n"
   ]
  },
  {
   "cell_type": "code",
   "execution_count": 80,
   "metadata": {},
   "outputs": [],
   "source": [
    "# %load -r 21-24 supplement.py\n"
   ]
  },
  {
   "cell_type": "code",
   "execution_count": 81,
   "metadata": {},
   "outputs": [
    {
     "name": "stdout",
     "output_type": "stream",
     "text": [
      "0.36599\n",
      "0.3660323412732292\n"
     ]
    }
   ],
   "source": [
    "print(np.mean(difference)/100)\n",
    "print((1- 1/100)**100)"
   ]
  },
  {
   "cell_type": "markdown",
   "metadata": {},
   "source": [
    "## Exit Ticket\n",
    "\n",
    "[Exit Ticket for resampling Methods](https://docs.google.com/forms/d/1Nbpknpsr2X8k4L6CxNdbhLqB8F2hcWkGv3hqEVpnavA/viewform?edit_requested=true)\n",
    "\n",
    "## Further readings and resources\n",
    "\n",
    "[Introduction to Statistical Learning - 5.2](http://faculty.marshall.usc.edu/gareth-james/ISL/)\n",
    "\n",
    "[A Gentle Introduction to Bootstrapping](https://machinelearningmastery.com/a-gentle-introduction-to-the-bootstrap-method/)\n",
    "\n",
    "[Monte Carlo Wikipedia](https://en.wikipedia.org/wiki/Monte_Carlo_method)\n",
    "\n",
    "[Python-for-Probability-Statistics-And-Machine-Learning - ch: 2.8](https://www.amazon.com/Python-Probability-Statistics-Machine-Learning/dp/3319307150)"
   ]
  },
  {
   "cell_type": "code",
   "execution_count": 82,
   "metadata": {},
   "outputs": [],
   "source": [
    "# these parameters used in the notebook above\n",
    "# I put them here to hide the true parameters during the lecture.\n",
    "mean = [0,0]\n",
    "covariant = [[1,0.5], [0.5, 1.25]]"
   ]
  }
 ],
 "metadata": {
  "kernelspec": {
   "display_name": "Python 3",
   "language": "python",
   "name": "python3"
  },
  "language_info": {
   "codemirror_mode": {
    "name": "ipython",
    "version": 3
   },
   "file_extension": ".py",
   "mimetype": "text/x-python",
   "name": "python",
   "nbconvert_exporter": "python",
   "pygments_lexer": "ipython3",
   "version": "3.6.9"
  },
  "toc": {
   "base_numbering": 1,
   "nav_menu": {},
   "number_sections": true,
   "sideBar": true,
   "skip_h1_title": false,
   "title_cell": "Table of Contents",
   "title_sidebar": "Contents",
   "toc_cell": false,
   "toc_position": {},
   "toc_section_display": true,
   "toc_window_display": false
  }
 },
 "nbformat": 4,
 "nbformat_minor": 2
}
