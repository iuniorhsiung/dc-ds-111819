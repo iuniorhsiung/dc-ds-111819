{
 "cells": [
  {
   "cell_type": "markdown",
   "metadata": {},
   "source": [
    "<h1 style='text-align:center'>Project Management</h1>"
   ]
  },
  {
   "cell_type": "markdown",
   "metadata": {},
   "source": [
    "## Working Together"
   ]
  },
  {
   "cell_type": "markdown",
   "metadata": {},
   "source": [
    "<img src='images/teamwork.gif'/>"
   ]
  },
  {
   "cell_type": "markdown",
   "metadata": {},
   "source": [
    "#### Steps of a Data Science Project"
   ]
  },
  {
   "cell_type": "markdown",
   "metadata": {},
   "source": [
    "- Define the problem\n",
    "- Obtain data\n",
    "    - Dataset\n",
    "    - API\n",
    "    - Web Scraping\n",
    "- Data Cleaning\n",
    "- EDA\n",
    "- Modeling\n",
    "- Validation\n",
    "- Readme, Final notebooks\n",
    "\n",
    "<img src='images/CRISP-DM_Process.jpg'/>"
   ]
  },
  {
   "cell_type": "markdown",
   "metadata": {},
   "source": [
    "#### Guidelines for working together"
   ]
  },
  {
   "cell_type": "markdown",
   "metadata": {},
   "source": [
    "- Discuss how you each prefer to work, strengths/weaknesses, things you’re really interested in working on \n",
    "- Create a workflow that is going to work for the both of you\n",
    "- After deciding on a project topic or dataset you want to explore, break down the Data Gathering process into small steps (call data from “x” API, scrape “y” website, clean data, merge data etc.) \n",
    "    - If a particular task is complex split it even further - i.e. you have multiple pages of the same website that need to be scraped and each require different scripts then each script is a different task \n",
    "    - Each unique API and website should be a separate task\n",
    "- Assign/Pick one to two tasks (2-4 hours of work worth of tasks) for each partner.\n",
    "- After task(s) are complete, meet up and review each others code, ask/answer questions, merge code (if applicable)  \n",
    "- Repeat this process until all tasks for Data Gathering are done. \n",
    "- Continue with this process for the remainder of the major steps (EDA, Modeling, Validation, Final Cleanup/Readme) \n",
    "\n"
   ]
  },
  {
   "cell_type": "markdown",
   "metadata": {},
   "source": [
    "## Collaborating on Git"
   ]
  },
  {
   "cell_type": "markdown",
   "metadata": {},
   "source": [
    "#### Perform the following steps with partners: \n",
    "\n",
    "- One person initializes a git repository on GitHub \n",
    "- Add other person(s) as collaborators on GitHub (under settings)\n",
    "- Both partners clone down repository onto their own computers\n",
    "- Both partners create a new branch on their local repository 'git checkout -b name-wip-what-you-are-working-on'\n",
    "- Both partners create a new .ipynb file with different names\n",
    "- Git add *, git commit -m \"message\", git push (you'll see an error - follow the instruction) \n",
    "- Create a pull request \n",
    "- Marvel in your mastery of git"
   ]
  },
  {
   "cell_type": "markdown",
   "metadata": {},
   "source": [
    "We use git (and GitHub) to collaborate on a project. Many people can work on a single project simultaneously. \n",
    "\n",
    "\n",
    "## Git Branching Workflow\n",
    "\n",
    "[Git Branching Workflow](https://www.atlassian.com/git/tutorials/comparing-workflows/feature-branch-workflow)\n",
    "\n",
    "It is generally best practice to create the master branch that is always polished or \"production ready\" files branches where you are working on adding new features/analysis. In a data science project one branch might be for data cleaning and another branch might be for EDA.\n",
    "\n",
    "<img src='images/git-branches.png'/>\n",
    "\n",
    "##### How to create a new Branch off of the master\n",
    "\n",
    "`git checkout -b new-feature`\n",
    "\n",
    "Here the -b tells git to create a new branch if it does not already exist\n",
    "\n",
    "\n",
    "### Git Merging\n",
    "\n",
    "While working on your project you will also want to merge your branches to the master or merge the master to your branch. Git also has tools to help manage any conflicts that might arise in the merging process. \n",
    "\n",
    "When you are done with your feature you will want to merge this branch back into the master. You will do this with a pull request which we will discuss more later on.\n",
    "\n",
    "<img src='images/merge-to-master.png'/>\n",
    "\n",
    "\n",
    "### **Beware** \n",
    "\n",
    "When working with Jupyter Notebooks, certain considerations to be made because git cannot cleanly merge .ipynb files. Therefore, when working in pairs, use separate notebooks (different names) to test code and utilize functions in .py files for easy merging. The easiest and cleanest way of then merging the notebooks into one is to merge separate notebooks into one branch and then have one person copy and paste the cells into one notebook.  \n",
    "\n",
    "A few alternatives are below:\n",
    "\n",
    "[Making Git and Jupyter Notebooks Play Nice](http://timstaley.co.uk/posts/making-git-and-jupyter-notebooks-play-nice/)\n",
    "\n",
    "[nbdime](https://github.com/jupyter/nbdime)\n",
    "    \n",
    "     \n",
    "#### Merging the master into your branch\n",
    "\n",
    "When your partner has updated the master branch you may want to incorporate these changes into your branch.  The best way to do this is to checkout the branch you are working with and then merge the master to that one.\n",
    "\n",
    "`git checkout feature_branch\n",
    "git merge master`"
   ]
  },
  {
   "cell_type": "markdown",
   "metadata": {},
   "source": [
    "##  Merge Conflicts\n",
    "\n",
    "Merge conflicts happen when you merge branches that have competing commits, and Git needs your help to decide which changes to incorporate in the final merge.\n",
    "\n",
    "```\n",
    "$ git merge BRANCH-NAME> Auto-merging styleguide.md\n",
    "> CONFLICT (content): Merge conflict in styleguide.md\n",
    "> Automatic merge failed; fix conflicts and then commit the result\n",
    "```\n",
    "\n",
    "There are two ways to address this merge conflict:\n",
    "\n",
    "1. Edit the file that has the merge conflict directly \n",
    "- Open your favorite text editor, and navigate to the file that has merge conflicts.\n",
    "- When you open the file in your text editor, you'll see the changes from the HEAD or base branch after the line <<<<<<< HEAD. Next, you'll see =======, which divides your changes from the changes in the other branch, followed by >>>>>>> BRANCH-NAME.\n",
    "\n",
    "```\n",
    "If you have questions, please\n",
    "<<<<<<< HEAD\n",
    "open an issue\n",
    "=======\n",
    "ask your question in IRC.\n",
    ">>>>>>> branch-a\n",
    "```\n",
    "- Decide if you want to keep only your branch's changes, keep only the other branch's changes, or make a brand new change, which may incorporate changes from both branches. Delete the conflict markers <<<<<<<, =======, >>>>>>> and make the changes you want in the final merge. \n",
    "\n",
    "\n",
    "2. Tell git which file you want to keep. According to the git checkout manpage, there’s a --theirs and --ours options on the command. The former will keep the version of the file that you merged in, and the other will keep the original one we had.\n",
    "\n",
    "The following commands will keep the original file for index.html, and then use the merged in file only for _layouts/default.html.\n",
    "\n",
    "`git checkout --ours index.html\n",
    "git checkout --theirs _layouts/default.html`\n",
    "\n",
    "\n",
    "Good practice:\n",
    "- pull master into your brach before merging your changes into the master in a pull request"
   ]
  },
  {
   "cell_type": "markdown",
   "metadata": {},
   "source": [
    "## Git Pull Requests\n",
    "\n",
    "When you are ready to put your work into your master branch you will need to do a pull request to merge your work into the master branch.\n",
    "\n",
    "Pull requests are done through the Github GUI.\n",
    "\n",
    "[Github Pull Requests](https://help.github.com/en/articles/creating-a-pull-request)\n",
    "\n",
    "### Steps to a Pull Request\n",
    "\n",
    "1. On GitHub, navigate to the main page of the repository.\n",
    "\n",
    "2. In the \"Branch\" menu, choose the branch that contains your commits.\n",
    "\n",
    "<img src='images/branch-dropdown.png'/>\n",
    "\n",
    "3. To the right of the Branch menu, click New pull request.\n",
    "<img src='images/pull-request-start-review-button.png'/>\n",
    "\n",
    "4. Use the base branch dropdown menu to select the branch you'd like to merge your changes into, then use the compare branch drop-down menu to choose the topic branch you made your changes in.\n",
    "<img src='images/choose-base-and-compare-branches.png'/>\n",
    "\n",
    "5. Specify a title and write a description for your pull request\n",
    "<img src='images/pullrequest-description.png'/>\n",
    "\n",
    "6.  To create a pull request that is ready for review, click **Create Pull Request**. To create a draft pull request, use the drop-down and select **Create Draft Pull Request**, then click **Draft Pull Request**. \n",
    "<img src='images/pullrequest-send.png'/>\n",
    "\n",
    "7. Someone other than the one who submitted the pull request will now review the pull request.  After reviewing the changes they will write any comments they have about the pull request and submit.\n",
    "\n",
    "[How to review pull request](https://help.github.com/en/articles/reviewing-proposed-changes-in-a-pull-request)\n",
    "\n",
    "<img src='images/comment-field.png'/>\n",
    "\n",
    "8. This person will then submit their review of the request with a status\n",
    "\n",
    "<img src='images/pull-request-review-statuses.png'/>\n"
   ]
  },
  {
   "cell_type": "markdown",
   "metadata": {},
   "source": [
    "## Clean Notebooks"
   ]
  },
  {
   "cell_type": "markdown",
   "metadata": {},
   "source": [
    "#### Why do notebooks need to kept clean? \n",
    "\n",
    "#### Why should we comment our code? "
   ]
  },
  {
   "cell_type": "markdown",
   "metadata": {},
   "source": [
    "### Work in Pairs\n",
    "- Cleanup code below (create functions, import from importme.py)\n",
    "- Push to GitHub\n",
    "- Create pull request"
   ]
  },
  {
   "cell_type": "code",
   "execution_count": 1,
   "metadata": {},
   "outputs": [],
   "source": [
    "import pandas as pd\n",
    "import numpy as np\n",
    "import matplotlib.pyplot as plt\n",
    "\n",
    "df = pd.read_csv('baseball_stats.csv')"
   ]
  },
  {
   "cell_type": "code",
   "execution_count": 2,
   "metadata": {},
   "outputs": [],
   "source": [
    "teams = df.name.unique()"
   ]
  },
  {
   "cell_type": "code",
   "execution_count": 4,
   "metadata": {},
   "outputs": [
    {
     "data": {
      "text/html": [
       "<div>\n",
       "<style scoped>\n",
       "    .dataframe tbody tr th:only-of-type {\n",
       "        vertical-align: middle;\n",
       "    }\n",
       "\n",
       "    .dataframe tbody tr th {\n",
       "        vertical-align: top;\n",
       "    }\n",
       "\n",
       "    .dataframe thead th {\n",
       "        text-align: right;\n",
       "    }\n",
       "</style>\n",
       "<table border=\"1\" class=\"dataframe\">\n",
       "  <thead>\n",
       "    <tr style=\"text-align: right;\">\n",
       "      <th></th>\n",
       "      <th>Unnamed: 0</th>\n",
       "      <th>id</th>\n",
       "      <th>name</th>\n",
       "      <th>id.1</th>\n",
       "      <th>team_id</th>\n",
       "      <th>league</th>\n",
       "      <th>division</th>\n",
       "      <th>year</th>\n",
       "      <th>wins</th>\n",
       "      <th>runs_scored</th>\n",
       "      <th>home_runs</th>\n",
       "      <th>batting_avg</th>\n",
       "      <th>ops</th>\n",
       "      <th>avg_age</th>\n",
       "    </tr>\n",
       "  </thead>\n",
       "  <tbody>\n",
       "    <tr>\n",
       "      <td>0</td>\n",
       "      <td>0</td>\n",
       "      <td>1</td>\n",
       "      <td>Arizona Diamondbacks</td>\n",
       "      <td>1</td>\n",
       "      <td>1</td>\n",
       "      <td>NL</td>\n",
       "      <td>West</td>\n",
       "      <td>2018</td>\n",
       "      <td>82</td>\n",
       "      <td>693</td>\n",
       "      <td>176</td>\n",
       "      <td>0.235</td>\n",
       "      <td>0.707</td>\n",
       "      <td>29.2</td>\n",
       "    </tr>\n",
       "    <tr>\n",
       "      <td>1</td>\n",
       "      <td>1</td>\n",
       "      <td>1</td>\n",
       "      <td>Arizona Diamondbacks</td>\n",
       "      <td>2</td>\n",
       "      <td>1</td>\n",
       "      <td>NL</td>\n",
       "      <td>West</td>\n",
       "      <td>2017</td>\n",
       "      <td>93</td>\n",
       "      <td>812</td>\n",
       "      <td>220</td>\n",
       "      <td>0.254</td>\n",
       "      <td>0.774</td>\n",
       "      <td>28.3</td>\n",
       "    </tr>\n",
       "    <tr>\n",
       "      <td>2</td>\n",
       "      <td>2</td>\n",
       "      <td>1</td>\n",
       "      <td>Arizona Diamondbacks</td>\n",
       "      <td>3</td>\n",
       "      <td>1</td>\n",
       "      <td>NL</td>\n",
       "      <td>West</td>\n",
       "      <td>2016</td>\n",
       "      <td>69</td>\n",
       "      <td>752</td>\n",
       "      <td>190</td>\n",
       "      <td>0.261</td>\n",
       "      <td>0.752</td>\n",
       "      <td>26.7</td>\n",
       "    </tr>\n",
       "    <tr>\n",
       "      <td>3</td>\n",
       "      <td>3</td>\n",
       "      <td>1</td>\n",
       "      <td>Arizona Diamondbacks</td>\n",
       "      <td>4</td>\n",
       "      <td>1</td>\n",
       "      <td>NL</td>\n",
       "      <td>West</td>\n",
       "      <td>2015</td>\n",
       "      <td>79</td>\n",
       "      <td>720</td>\n",
       "      <td>154</td>\n",
       "      <td>0.264</td>\n",
       "      <td>0.738</td>\n",
       "      <td>26.6</td>\n",
       "    </tr>\n",
       "    <tr>\n",
       "      <td>4</td>\n",
       "      <td>4</td>\n",
       "      <td>1</td>\n",
       "      <td>Arizona Diamondbacks</td>\n",
       "      <td>5</td>\n",
       "      <td>1</td>\n",
       "      <td>NL</td>\n",
       "      <td>West</td>\n",
       "      <td>2014</td>\n",
       "      <td>64</td>\n",
       "      <td>615</td>\n",
       "      <td>118</td>\n",
       "      <td>0.248</td>\n",
       "      <td>0.678</td>\n",
       "      <td>27.6</td>\n",
       "    </tr>\n",
       "  </tbody>\n",
       "</table>\n",
       "</div>"
      ],
      "text/plain": [
       "   Unnamed: 0  id                  name  id.1  team_id league division  year  \\\n",
       "0           0   1  Arizona Diamondbacks     1        1     NL     West  2018   \n",
       "1           1   1  Arizona Diamondbacks     2        1     NL     West  2017   \n",
       "2           2   1  Arizona Diamondbacks     3        1     NL     West  2016   \n",
       "3           3   1  Arizona Diamondbacks     4        1     NL     West  2015   \n",
       "4           4   1  Arizona Diamondbacks     5        1     NL     West  2014   \n",
       "\n",
       "   wins  runs_scored  home_runs  batting_avg    ops  avg_age  \n",
       "0    82          693        176        0.235  0.707     29.2  \n",
       "1    93          812        220        0.254  0.774     28.3  \n",
       "2    69          752        190        0.261  0.752     26.7  \n",
       "3    79          720        154        0.264  0.738     26.6  \n",
       "4    64          615        118        0.248  0.678     27.6  "
      ]
     },
     "execution_count": 4,
     "metadata": {},
     "output_type": "execute_result"
    }
   ],
   "source": [
    "df.head()"
   ]
  },
  {
   "cell_type": "code",
   "execution_count": 5,
   "metadata": {},
   "outputs": [
    {
     "data": {
      "text/plain": [
       "array(['Arizona Diamondbacks', 'Atlanta Braves', 'Baltimore Orioles',\n",
       "       'Boston Red Sox', 'Chicago Cubs', 'Chicago White Sox',\n",
       "       'Cincinnati Reds', 'Cleveland Indians', 'Colorado Rockies',\n",
       "       'Detroit Tigers', 'Houston Astros', 'Kansas City Royals',\n",
       "       'Los Angeles Angels', 'Los Angeles Dodgers', 'Miami Marlins',\n",
       "       'Milwaukee Brewers', 'Minnesota Twins', 'New York Mets',\n",
       "       'New York Yankees', 'Oakland Athletics', 'Philadelphia Phillies',\n",
       "       'Pittsburgh Pirates', 'San Diego Padres', 'San Francisco Giants',\n",
       "       'Seattle Mariners', 'St. Louis Cardinals', 'Tampa Bay Rays',\n",
       "       'Texas Rangers', 'Toronto Blue Jays', 'Washington Nationals'],\n",
       "      dtype=object)"
      ]
     },
     "execution_count": 5,
     "metadata": {},
     "output_type": "execute_result"
    }
   ],
   "source": [
    "teams"
   ]
  },
  {
   "cell_type": "code",
   "execution_count": 6,
   "metadata": {},
   "outputs": [],
   "source": [
    "df['team_ratio'] = df['wins']/df['runs_scored']"
   ]
  },
  {
   "cell_type": "code",
   "execution_count": 7,
   "metadata": {},
   "outputs": [
    {
     "data": {
      "text/plain": [
       "0       0.118326\n",
       "1       0.114532\n",
       "2       0.091755\n",
       "3       0.109722\n",
       "4       0.104065\n",
       "          ...   \n",
       "2649    0.118263\n",
       "2650    0.136452\n",
       "2651    0.114148\n",
       "2652    0.106259\n",
       "2653    0.089347\n",
       "Name: team_ratio, Length: 2654, dtype: float64"
      ]
     },
     "execution_count": 7,
     "metadata": {},
     "output_type": "execute_result"
    }
   ],
   "source": [
    "df[\"team_ratio\"]"
   ]
  },
  {
   "cell_type": "code",
   "execution_count": 8,
   "metadata": {},
   "outputs": [],
   "source": [
    "team_ratio = df[df.name == 'Arizona Diamondbacks'][['year', 'team_ratio']]"
   ]
  },
  {
   "cell_type": "code",
   "execution_count": 9,
   "metadata": {},
   "outputs": [
    {
     "data": {
      "text/html": [
       "<div>\n",
       "<style scoped>\n",
       "    .dataframe tbody tr th:only-of-type {\n",
       "        vertical-align: middle;\n",
       "    }\n",
       "\n",
       "    .dataframe tbody tr th {\n",
       "        vertical-align: top;\n",
       "    }\n",
       "\n",
       "    .dataframe thead th {\n",
       "        text-align: right;\n",
       "    }\n",
       "</style>\n",
       "<table border=\"1\" class=\"dataframe\">\n",
       "  <thead>\n",
       "    <tr style=\"text-align: right;\">\n",
       "      <th></th>\n",
       "      <th>year</th>\n",
       "      <th>team_ratio</th>\n",
       "    </tr>\n",
       "  </thead>\n",
       "  <tbody>\n",
       "    <tr>\n",
       "      <td>0</td>\n",
       "      <td>2018</td>\n",
       "      <td>0.118326</td>\n",
       "    </tr>\n",
       "    <tr>\n",
       "      <td>1</td>\n",
       "      <td>2017</td>\n",
       "      <td>0.114532</td>\n",
       "    </tr>\n",
       "    <tr>\n",
       "      <td>2</td>\n",
       "      <td>2016</td>\n",
       "      <td>0.091755</td>\n",
       "    </tr>\n",
       "    <tr>\n",
       "      <td>3</td>\n",
       "      <td>2015</td>\n",
       "      <td>0.109722</td>\n",
       "    </tr>\n",
       "    <tr>\n",
       "      <td>4</td>\n",
       "      <td>2014</td>\n",
       "      <td>0.104065</td>\n",
       "    </tr>\n",
       "    <tr>\n",
       "      <td>5</td>\n",
       "      <td>2013</td>\n",
       "      <td>0.118248</td>\n",
       "    </tr>\n",
       "    <tr>\n",
       "      <td>6</td>\n",
       "      <td>2012</td>\n",
       "      <td>0.110354</td>\n",
       "    </tr>\n",
       "    <tr>\n",
       "      <td>7</td>\n",
       "      <td>2011</td>\n",
       "      <td>0.128591</td>\n",
       "    </tr>\n",
       "    <tr>\n",
       "      <td>8</td>\n",
       "      <td>2010</td>\n",
       "      <td>0.091164</td>\n",
       "    </tr>\n",
       "    <tr>\n",
       "      <td>9</td>\n",
       "      <td>2009</td>\n",
       "      <td>0.097222</td>\n",
       "    </tr>\n",
       "    <tr>\n",
       "      <td>10</td>\n",
       "      <td>2008</td>\n",
       "      <td>0.113889</td>\n",
       "    </tr>\n",
       "    <tr>\n",
       "      <td>11</td>\n",
       "      <td>2007</td>\n",
       "      <td>0.126404</td>\n",
       "    </tr>\n",
       "    <tr>\n",
       "      <td>12</td>\n",
       "      <td>2006</td>\n",
       "      <td>0.098318</td>\n",
       "    </tr>\n",
       "    <tr>\n",
       "      <td>13</td>\n",
       "      <td>2005</td>\n",
       "      <td>0.110632</td>\n",
       "    </tr>\n",
       "    <tr>\n",
       "      <td>14</td>\n",
       "      <td>2004</td>\n",
       "      <td>0.082927</td>\n",
       "    </tr>\n",
       "    <tr>\n",
       "      <td>15</td>\n",
       "      <td>2003</td>\n",
       "      <td>0.117155</td>\n",
       "    </tr>\n",
       "    <tr>\n",
       "      <td>16</td>\n",
       "      <td>2002</td>\n",
       "      <td>0.119658</td>\n",
       "    </tr>\n",
       "    <tr>\n",
       "      <td>17</td>\n",
       "      <td>2001</td>\n",
       "      <td>0.112469</td>\n",
       "    </tr>\n",
       "    <tr>\n",
       "      <td>18</td>\n",
       "      <td>2000</td>\n",
       "      <td>0.107323</td>\n",
       "    </tr>\n",
       "    <tr>\n",
       "      <td>19</td>\n",
       "      <td>1999</td>\n",
       "      <td>0.110132</td>\n",
       "    </tr>\n",
       "    <tr>\n",
       "      <td>20</td>\n",
       "      <td>1998</td>\n",
       "      <td>0.097744</td>\n",
       "    </tr>\n",
       "  </tbody>\n",
       "</table>\n",
       "</div>"
      ],
      "text/plain": [
       "    year  team_ratio\n",
       "0   2018    0.118326\n",
       "1   2017    0.114532\n",
       "2   2016    0.091755\n",
       "3   2015    0.109722\n",
       "4   2014    0.104065\n",
       "5   2013    0.118248\n",
       "6   2012    0.110354\n",
       "7   2011    0.128591\n",
       "8   2010    0.091164\n",
       "9   2009    0.097222\n",
       "10  2008    0.113889\n",
       "11  2007    0.126404\n",
       "12  2006    0.098318\n",
       "13  2005    0.110632\n",
       "14  2004    0.082927\n",
       "15  2003    0.117155\n",
       "16  2002    0.119658\n",
       "17  2001    0.112469\n",
       "18  2000    0.107323\n",
       "19  1999    0.110132\n",
       "20  1998    0.097744"
      ]
     },
     "execution_count": 9,
     "metadata": {},
     "output_type": "execute_result"
    }
   ],
   "source": [
    "team_ratio"
   ]
  },
  {
   "cell_type": "code",
   "execution_count": 10,
   "metadata": {},
   "outputs": [
    {
     "data": {
      "text/plain": [
       "<BarContainer object of 21 artists>"
      ]
     },
     "execution_count": 10,
     "metadata": {},
     "output_type": "execute_result"
    },
    {
     "data": {
      "image/png": "[encoded data removed]",
      "text/plain": [
       "<Figure size 432x288 with 1 Axes>"
      ]
     },
     "metadata": {
      "needs_background": "light"
     },
     "output_type": "display_data"
    }
   ],
   "source": [
    "plt.bar(team_ratio['year'], team_ratio['team_ratio'])"
   ]
  },
  {
   "cell_type": "code",
   "execution_count": null,
   "metadata": {},
   "outputs": [],
   "source": []
  }
 ],
 "metadata": {
  "kernelspec": {
   "display_name": "Python 3",
   "language": "python",
   "name": "python3"
  },
  "language_info": {
   "codemirror_mode": {
    "name": "ipython",
    "version": 3
   },
   "file_extension": ".py",
   "mimetype": "text/x-python",
   "name": "python",
   "nbconvert_exporter": "python",
   "pygments_lexer": "ipython3",
   "version": "3.6.9"
  }
 },
 "nbformat": 4,
 "nbformat_minor": 4
}
