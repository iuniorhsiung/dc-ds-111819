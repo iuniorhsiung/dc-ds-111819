{
 "cells": [
  {
   "cell_type": "markdown",
   "metadata": {},
   "source": [
    "# Linear Algebra, Calculus, and Gradient Descent\n",
    "\n",
    "__Objectives__\n",
    "* Use operations with vectors and matrices to solve systems of linear equations\n",
    "* Identify and describe of scalars, vectors,  matrices, using appropriate mathematical jargon\n",
    "* Set up and solve systems of linear equations with real life examples\n",
    "* Describe gradient descent in relation to slope, derivatives, and step size\n",
    "\n",
    "\n",
    "## Why Linear Algebra?\n",
    "\n",
    "Linear Algebra is the basis of many machine learning models.\n",
    "\n",
    "Data is usually already set up into a matrix by default!\n",
    "\n",
    "<img src= \"./resources/dataset.jpeg\">\n"
   ]
  },
  {
   "cell_type": "markdown",
   "metadata": {},
   "source": [
    "\n",
    "It can be used to model complicated things like language\n",
    "\n",
    "<img src = \"./resources/Word-Vectors.png\">"
   ]
  },
  {
   "cell_type": "markdown",
   "metadata": {},
   "source": [
    "Important for image compression and recognition\n",
    "\n",
    "<img src = \"./resources/images.gif\">"
   ]
  },
  {
   "cell_type": "markdown",
   "metadata": {},
   "source": [
    "Also matrices are the common notation used in the popular libraries like numpy, scipy and sklearn.\n",
    "\n",
    "<img src = \"./resources/matrix_multiplication.png\">\n"
   ]
  },
  {
   "cell_type": "markdown",
   "metadata": {},
   "source": [
    "This is an image from Andrew Ng's Neural Networks and Deep Learning course.\n",
    "\n",
    "<img src = \"./resources/gradient_descent.png\" width  = 500>"
   ]
  },
  {
   "cell_type": "markdown",
   "metadata": {},
   "source": [
    "This is an image from Andrew Ng's Sequence Model's Course. \n",
    "\n",
    "<img src = \"./resources/lstm.png\" width  = 500>"
   ]
  },
  {
   "cell_type": "markdown",
   "metadata": {},
   "source": [
    "## Linear algebra and Linear Regression\n",
    "\n",
    "- Let's move to the notebook matrix algebra with numpy :)"
   ]
  },
  {
   "cell_type": "markdown",
   "metadata": {},
   "source": [
    "## Gradient Descent"
   ]
  },
  {
   "cell_type": "markdown",
   "metadata": {},
   "source": [
    "[Gradient slide](https://www.youtube.com/watch?v=vWFjqgb-ylQ)"
   ]
  },
  {
   "cell_type": "markdown",
   "metadata": {},
   "source": [
    "## Gradient in Action"
   ]
  },
  {
   "cell_type": "code",
   "execution_count": 1,
   "metadata": {},
   "outputs": [],
   "source": [
    "import pandas as pd\n",
    "import numpy as np\n",
    "from matplotlib import pyplot as plt\n",
    "import random\n",
    "import seaborn as sns"
   ]
  },
  {
   "cell_type": "code",
   "execution_count": 2,
   "metadata": {},
   "outputs": [
    {
     "data": {
      "text/plain": [
       "array([0., 0., 0., 0., 0., 0., 0., 0., 0., 0.])"
      ]
     },
     "execution_count": 2,
     "metadata": {},
     "output_type": "execute_result"
    }
   ],
   "source": [
    "numPoints=10\n",
    "np.zeros(shape=numPoints)"
   ]
  },
  {
   "cell_type": "code",
   "execution_count": 3,
   "metadata": {},
   "outputs": [],
   "source": [
    "def genData(numPoints, bias, variance):\n",
    "    x = np.zeros(shape=(numPoints, 2))\n",
    "    y = np.zeros(shape=numPoints)\n",
    "    # basically a straight line\n",
    "    for i in range(0, numPoints):\n",
    "        # bias feature\n",
    "        x[i][0] = 1\n",
    "        x[i][1] = i\n",
    "        # our target variable\n",
    "        y[i] = (i + bias) + np.random.uniform(0, 1) * variance\n",
    "    return x, y"
   ]
  },
  {
   "cell_type": "code",
   "execution_count": 5,
   "metadata": {},
   "outputs": [],
   "source": [
    "x = np.random.uniform(low =0, high=1, size = 1000)\n",
    "\n",
    "y = 10*x + 25 + np.random.normal(loc = 0, scale = 1, size = 1000)"
   ]
  },
  {
   "cell_type": "code",
   "execution_count": 6,
   "metadata": {},
   "outputs": [],
   "source": [
    "# gen 100 points with a bias of 25 and 10 variance as a bit of noise\n",
    "x, y = genData(100, 25, 25)\n",
    "m, n = np.shape(x)"
   ]
  },
  {
   "cell_type": "code",
   "execution_count": 7,
   "metadata": {},
   "outputs": [
    {
     "data": {
      "image/png": "[encoded data removed]",
      "text/plain": [
       "<Figure size 432x288 with 1 Axes>"
      ]
     },
     "metadata": {
      "needs_background": "light"
     },
     "output_type": "display_data"
    }
   ],
   "source": [
    "sns.scatterplot(x=x[:, 1], y=y)\n",
    "\n",
    "plt.show()"
   ]
  },
  {
   "cell_type": "code",
   "execution_count": 8,
   "metadata": {},
   "outputs": [
    {
     "data": {
      "text/plain": [
       "(100,)"
      ]
     },
     "execution_count": 8,
     "metadata": {},
     "output_type": "execute_result"
    }
   ],
   "source": [
    "x\n",
    "theta = np.array([1.90595185,1.5342646])\n",
    "np.dot(x, theta).shape"
   ]
  },
  {
   "cell_type": "code",
   "execution_count": 17,
   "metadata": {},
   "outputs": [
    {
     "data": {
      "text/plain": [
       "(2, 100)"
      ]
     },
     "execution_count": 17,
     "metadata": {},
     "output_type": "execute_result"
    }
   ],
   "source": [
    "x.transpose().shape"
   ]
  },
  {
   "cell_type": "markdown",
   "metadata": {},
   "source": [
    "__Your Turn__\n",
    "\n",
    "Write a gradient descent function for this linear problem\n",
    "\n",
    "- Inputs:\n",
    "x, y, theta: initialized with some random values, alpha: learning rate, m: length of data, numiterations: number of iterations\n",
    "\n",
    "- return: plot the errors for each iterations\n",
    "- return the final theta values"
   ]
  },
  {
   "cell_type": "code",
   "execution_count": 10,
   "metadata": {},
   "outputs": [],
   "source": [
    "# %load -r 1-20 supplement.py\n",
    "def gradientDescent(x, y, theta, alpha, m, numIterations):\n",
    "    xTrans = x.transpose()\n",
    "    costs = []\n",
    "    for i in range(0, numIterations):\n",
    "        hypothesis = np.dot(x, theta)\n",
    "        loss = hypothesis - y\n",
    "        # avg cost per example (the 2 in 2*m doesn't really matter here.\n",
    "        # But to be consistent with the gradient, I include it)\n",
    "        cost = np.sum(loss ** 2) / (2 * m)\n",
    "        if i % (numIterations // 40) == 0:\n",
    "            print(\"Iteration %d | Cost: %f\" % (i, cost))\n",
    "            print(theta)\n",
    "        costs.append(cost)\n",
    "        # avg gradient per example\n",
    "        gradient = np.dot(xTrans, loss) / m\n",
    "        # update\n",
    "        theta = theta - alpha * gradient\n",
    "    sns.scatterplot(y=costs, x=[i for i in range(len(costs))])\n",
    "\n",
    "    return theta"
   ]
  },
  {
   "cell_type": "code",
   "execution_count": 15,
   "metadata": {},
   "outputs": [
    {
     "name": "stdout",
     "output_type": "stream",
     "text": [
      "Iteration 0 | Cost: 474.525031\n",
      "[37.9595185  1.5342646]\n",
      "Iteration 5000 | Cost: 29.427823\n",
      "[37.96429855  1.01350909]\n",
      "Iteration 10000 | Cost: 29.427575\n",
      "[37.97542237  1.01334138]\n",
      "Iteration 15000 | Cost: 29.427383\n",
      "[37.98522089  1.01319365]\n",
      "Iteration 20000 | Cost: 29.427234\n",
      "[37.99385202  1.01306352]\n",
      "Iteration 25000 | Cost: 29.427118\n",
      "[38.00145482  1.0129489 ]\n",
      "Iteration 30000 | Cost: 29.427028\n",
      "[38.00815182  1.01284793]\n",
      "Iteration 35000 | Cost: 29.426958\n",
      "[38.01405094  1.01275899]\n",
      "Iteration 40000 | Cost: 29.426904\n",
      "[38.01924724  1.01268065]\n",
      "Iteration 45000 | Cost: 29.426862\n",
      "[38.02382444  1.01261164]\n",
      "Iteration 50000 | Cost: 29.426830\n",
      "[38.02785631  1.01255086]\n",
      "Iteration 55000 | Cost: 29.426804\n",
      "[38.03140783  1.01249731]\n",
      "Iteration 60000 | Cost: 29.426785\n",
      "[38.03453621  1.01245015]\n",
      "Iteration 65000 | Cost: 29.426770\n",
      "[38.03729188  1.0124086 ]\n",
      "Iteration 70000 | Cost: 29.426758\n",
      "[38.03971924  1.012372  ]\n",
      "Iteration 75000 | Cost: 29.426749\n",
      "[38.0418574   1.01233977]\n",
      "Iteration 80000 | Cost: 29.426742\n",
      "[38.04374081  1.01231137]\n",
      "Iteration 85000 | Cost: 29.426736\n",
      "[38.04539984  1.01228636]\n",
      "Iteration 90000 | Cost: 29.426732\n",
      "[38.04686121  1.01226433]\n",
      "Iteration 95000 | Cost: 29.426728\n",
      "[38.04814847  1.01224492]\n",
      "Iteration 100000 | Cost: 29.426726\n",
      "[38.04928236  1.01222783]\n",
      "Iteration 105000 | Cost: 29.426724\n",
      "[38.05028117  1.01221277]\n",
      "Iteration 110000 | Cost: 29.426722\n",
      "[38.05116097  1.0121995 ]\n",
      "Iteration 115000 | Cost: 29.426721\n",
      "[38.05193596  1.01218782]\n",
      "Iteration 120000 | Cost: 29.426720\n",
      "[38.05261861  1.01217753]\n",
      "Iteration 125000 | Cost: 29.426719\n",
      "[38.05321993  1.01216846]\n",
      "Iteration 130000 | Cost: 29.426719\n",
      "[38.05374961  1.01216047]\n",
      "Iteration 135000 | Cost: 29.426718\n",
      "[38.05421618  1.01215344]\n",
      "Iteration 140000 | Cost: 29.426718\n",
      "[38.05462717  1.01214724]\n",
      "Iteration 145000 | Cost: 29.426718\n",
      "[38.05498919  1.01214179]\n",
      "Iteration 150000 | Cost: 29.426718\n",
      "[38.05530808  1.01213698]\n",
      "Iteration 155000 | Cost: 29.426717\n",
      "[38.05558897  1.01213274]\n",
      "Iteration 160000 | Cost: 29.426717\n",
      "[38.0558364   1.01212901]\n",
      "Iteration 165000 | Cost: 29.426717\n",
      "[38.05605435  1.01212573]\n",
      "Iteration 170000 | Cost: 29.426717\n",
      "[38.05624634  1.01212283]\n",
      "Iteration 175000 | Cost: 29.426717\n",
      "[38.05641545  1.01212028]\n",
      "Iteration 180000 | Cost: 29.426717\n",
      "[38.05656441  1.01211804]\n",
      "Iteration 185000 | Cost: 29.426717\n",
      "[38.05669563  1.01211606]\n",
      "Iteration 190000 | Cost: 29.426717\n",
      "[38.05681121  1.01211432]\n",
      "Iteration 195000 | Cost: 29.426717\n",
      "[38.05691302  1.01211278]\n"
     ]
    },
    {
     "data": {
      "text/plain": [
       "array([38.0570027 ,  1.01211143])"
      ]
     },
     "execution_count": 15,
     "metadata": {},
     "output_type": "execute_result"
    },
    {
     "data": {
      "image/png": "[encoded data removed]",
      "text/plain": [
       "<Figure size 432x288 with 1 Axes>"
      ]
     },
     "metadata": {
      "needs_background": "light"
     },
     "output_type": "display_data"
    }
   ],
   "source": [
    "numIterations = 200000\n",
    "alpha = 0.0001\n",
    "theta = np.array([37.9595185,1.5342646])\n",
    "a = gradientDescent(x, y, theta, alpha, m, numIterations)\n",
    "a"
   ]
  },
  {
   "cell_type": "markdown",
   "metadata": {},
   "source": [
    "Let's compare the results with the sklearn."
   ]
  },
  {
   "cell_type": "code",
   "execution_count": 12,
   "metadata": {},
   "outputs": [],
   "source": [
    "from sklearn.linear_model import LinearRegression"
   ]
  },
  {
   "cell_type": "code",
   "execution_count": 13,
   "metadata": {},
   "outputs": [
    {
     "name": "stdout",
     "output_type": "stream",
     "text": [
      "[38.05766576  1.01210143]\n"
     ]
    }
   ],
   "source": [
    "lr = LinearRegression(fit_intercept= False)\n",
    "lr.fit(x,y)\n",
    "print(lr.coef_)\n"
   ]
  },
  {
   "cell_type": "code",
   "execution_count": null,
   "metadata": {},
   "outputs": [],
   "source": []
  }
 ],
 "metadata": {
  "kernelspec": {
   "display_name": "Python 3",
   "language": "python",
   "name": "python3"
  },
  "language_info": {
   "codemirror_mode": {
    "name": "ipython",
    "version": 3
   },
   "file_extension": ".py",
   "mimetype": "text/x-python",
   "name": "python",
   "nbconvert_exporter": "python",
   "pygments_lexer": "ipython3",
   "version": "3.6.9"
  },
  "toc": {
   "base_numbering": 1,
   "nav_menu": {},
   "number_sections": true,
   "sideBar": true,
   "skip_h1_title": false,
   "title_cell": "Table of Contents",
   "title_sidebar": "Contents",
   "toc_cell": false,
   "toc_position": {},
   "toc_section_display": true,
   "toc_window_display": false
  }
 },
 "nbformat": 4,
 "nbformat_minor": 2
}
