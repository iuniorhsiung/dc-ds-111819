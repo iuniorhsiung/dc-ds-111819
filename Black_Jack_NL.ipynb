{
 "cells": [
  {
   "cell_type": "code",
   "execution_count": null,
   "metadata": {},
   "outputs": [],
   "source": []
  },
  {
   "cell_type": "code",
   "execution_count": null,
   "metadata": {},
   "outputs": [],
   "source": [
    "from itertools import product\n",
    "from random import shuffle\n",
    "from collection import deque"
   ]
  },
  {
   "cell_type": "code",
   "execution_count": 2,
   "metadata": {},
   "outputs": [],
   "source": [
    "class Card:\n",
    "    def __init__(self, suit, value):\n",
    "        self.suit = suit\n",
    "        self.value = value\n",
    "        self.score = score\n",
    "    \n",
    "    def __str__(self):\n",
    "        return f'{self.suit}[self.value]' # {}{}.format(self.suit, self.value)"
   ]
  },
  {
   "cell_type": "code",
   "execution_count": null,
   "metadata": {},
   "outputs": [],
   "source": [
    "class Deck:\n",
    "    def __init__(self):\n",
    "        suits = ('H', 'S', 'C', 'D')\n",
    "        values = ('A', '2', '3', '4', '5', '6',\n",
    "                 '7', '8', '9', '10', 'J', 'Q', 'K')\n",
    "        cards = list(product(suits, values))\n",
    "        self.cards = [Card(s, v) for s, v in cards]\n",
    "    \n",
    "    def shuffle(self):\n",
    "        shuffle(self.cards) # it shuffles in cards\n",
    "        \n",
    "    def deal(self, n = 1):\n",
    "        return (self.cards.popleft() for _ in range(n)) #take first few cards n times\n",
    "                                                         #(self.cards.popleft(0) for x in range(n)) is the same\n",
    "    \n",
    "    def return_card(self, card):\n",
    "        if isinstance(card, Card):\n",
    "            self.cards.append(Card) #pull the disgarded card in the bottom of the deck"
   ]
  },
  {
   "cell_type": "code",
   "execution_count": null,
   "metadata": {},
   "outputs": [],
   "source": [
    "class BlackJackHand:\n",
    "    def __init__(self, cards = None):\n",
    "        self.cards = deque()\n",
    "        for card in cards:\n",
    "            self.add_card(card)\n",
    "            \n",
    "    def add_card(self, card):\n",
    "        if isinstance(card, Card):\n",
    "            self.cards.append(card)\n",
    "    \n",
    "    def __str__(self):\n",
    "        for card in self.cards:\n",
    "            #yield self.card.__str__()\n",
    "            return \", \".join((card.__str__() for card in self.cards))\n",
    "        \n",
    "    def value(self):\n",
    "        val = 0\n",
    "        num_aces = 0 #chane this to other parts\n",
    "        for card in self.cards:\n",
    "            if card.value == \"A\":\n",
    "                num_aces += 1\n",
    "            value += card.score\n",
    "            if value > 21 and num_aces > 0: #if value > 21 and num_aces\n",
    "                value -= 10\n",
    "                num_aces -= 1\n",
    "            "
   ]
  },
  {
   "cell_type": "code",
   "execution_count": null,
   "metadata": {},
   "outputs": [],
   "source": [
    "class BlackJackCard(Card):\n",
    "    @property \n",
    "    def score(self):\n",
    "        try:\n",
    "            return int(self.value)\n",
    "        except ValueError as e: # for A, J, Q, K\n",
    "            if self.value in ('J', 'Q', 'K'):\n",
    "                return 10\n",
    "            elif self.value == 'A':\n",
    "                return 11\n",
    "            else raise e"
   ]
  },
  {
   "cell_type": "code",
   "execution_count": null,
   "metadata": {},
   "outputs": [],
   "source": [
    "class Table:\n",
    "    pass"
   ]
  },
  {
   "cell_type": "code",
   "execution_count": null,
   "metadata": {},
   "outputs": [],
   "source": [
    "class Game:\n",
    "    pass"
   ]
  },
  {
   "cell_type": "code",
   "execution_count": null,
   "metadata": {},
   "outputs": [],
   "source": [
    "class Chip:\n",
    "    pass"
   ]
  },
  {
   "cell_type": "code",
   "execution_count": null,
   "metadata": {},
   "outputs": [],
   "source": [
    "class player:\n",
    "    pass"
   ]
  },
  {
   "cell_type": "code",
   "execution_count": null,
   "metadata": {},
   "outputs": [],
   "source": [
    "class "
   ]
  },
  {
   "cell_type": "code",
   "execution_count": null,
   "metadata": {},
   "outputs": [],
   "source": []
  }
 ],
 "metadata": {
  "kernelspec": {
   "display_name": "Python 3",
   "language": "python",
   "name": "python3"
  },
  "language_info": {
   "codemirror_mode": {
    "name": "ipython",
    "version": 3
   },
   "file_extension": ".py",
   "mimetype": "text/x-python",
   "name": "python",
   "nbconvert_exporter": "python",
   "pygments_lexer": "ipython3",
   "version": "3.6.9"
  }
 },
 "nbformat": 4,
 "nbformat_minor": 2
}
